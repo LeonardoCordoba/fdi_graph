{
 "cells": [
  {
   "cell_type": "code",
   "execution_count": 1,
   "metadata": {
    "collapsed": true
   },
   "outputs": [],
   "source": [
    "import pandas as pd\n",
    "import numpy as np\n",
    "import networkx as nx\n",
    "import matplotlib.pyplot as plt"
   ]
  },
  {
   "cell_type": "markdown",
   "metadata": {},
   "source": [
    "Pais con mayor grado de salida"
   ]
  },
  {
   "cell_type": "code",
   "execution_count": 4,
   "metadata": {},
   "outputs": [],
   "source": [
    "df_2007 = pd.read_csv(\"../fuentes/df_dirigido_2007.csv\", encoding=\"latin-1\")"
   ]
  },
  {
   "cell_type": "code",
   "execution_count": 7,
   "metadata": {
    "collapsed": true
   },
   "outputs": [],
   "source": [
    "rango = 90\n",
    "cols = ['Reporting country', 'Partner country', 'Value']"
   ]
  },
  {
   "cell_type": "code",
   "execution_count": 9,
   "metadata": {},
   "outputs": [],
   "source": [
    "df_i = df_2007.loc[df_2007[\"Value\"]>rango].copy()\n",
    "graph = nx.from_pandas_dataframe(df_i[cols], source=\"Reporting country\", target=\"Partner country\",create_using=nx.DiGraph())"
   ]
  },
  {
   "cell_type": "code",
   "execution_count": 10,
   "metadata": {
    "collapsed": true
   },
   "outputs": [],
   "source": [
    "out_degree = graph.out_degree()\n",
    "min_out_degree = min(dict(out_degree).values())\n",
    "max_out_degree = max(dict(out_degree).values())"
   ]
  },
  {
   "cell_type": "code",
   "execution_count": 12,
   "metadata": {},
   "outputs": [
    {
     "data": {
      "text/plain": [
       "OutDegreeView({'Angola': 4, 'Belgium': 51, 'France': 63, 'Portugal': 19, 'United States': 79, 'Argentina': 2, 'Chile': 16, 'Denmark': 33, 'Australia': 24, 'Brazil': 7, 'Canada': 14, 'China': 2, 'Cyprus': 16, 'Finland': 20, 'Germany': 65, 'HongKong': 9, 'India': 5, 'Indonesia': 4, 'Ireland': 30, 'Japan': 38, 'Mexico': 8, 'Netherlands': 56, 'New Zealand': 4, 'NewZealand': 4, 'Philippines': 3, 'Poland': 14, 'Singapore': 13, 'United Kingdom': 65, 'Austria': 37, 'Bulgaria': 1, 'Croatia': 1, 'Czech Republic': 16, 'Hungary': 21, 'Italy': 26, 'Latvia': 0, 'Luxembourg': 55, 'Malta': 5, 'Norway': 24, 'Romania': 0, 'Russian Federation': 7, 'Slovak Republic': 2, 'Slovakia': 2, 'Slovenia': 8, 'South Africa': 4, 'Spain': 47, 'Sweden': 29, 'Switzerland': 42, 'Turkey': 7, 'Azerbaijan': 2, 'Bahamas': 2, 'Bahrain': 1, 'Bangladesh': 1, 'Barbados': 3, 'Algeria': 0, 'Bermuda': 10, 'Congo': 0, 'French Franc zone': 1, 'Greece': 12, 'Jamaica': 1, 'Jersey': 8, 'Kazakhstan': 1, 'Maghreb countries': 1, 'Netherlands Antilles': 2, 'Pakistan': 1, 'Panama': 5, 'Serbia, Republic of': 0, 'Taiwan, Province of China': 4, 'United Arab Emirates': 6, 'VirginIslands, British': 6, 'Cape Verde': 1, 'Cayman Islands': 11, 'Korea': 36, 'Peru': 1, 'Uruguay': 1, 'Colombia': 3, 'Costa Rica': 1, 'Estonia': 8, 'Georgia': 1, 'Korea, Republic of (South Korea)': 10, 'Lithuania': 3, 'Marshall Islands': 1, 'Qatar': 5, 'Egypt': 2, 'Equatorial Guinea': 1, 'Faroe Islands': 1, 'Fiji': 1, 'Gabon': 0, 'Iran, Islamic Republic of': 2, 'Israel': 11, 'Kenya': 0, 'Mashrek countries': 3, 'Mauritius': 3, 'Morocco': 1, 'Nigeria': 3, 'Saudi Arabia': 1, 'Senegal': 0, 'Thailand': 1, 'Tunisia': 0, 'Venezuela': 1, 'Yemen': 0, 'Gibraltar': 1, 'Guernsey': 3, 'Iceland': 13, 'Libya': 1, 'Liechtenstein': 1, 'Malaysia': 4, 'Ukraine': 1, 'Albania': 0, 'Macedonia, the Former Yugoslav Republic of': 0, 'Isle of Man': 3, 'Viet Nam': 0, 'Jordan': 1, 'Cambodia (Kampuchea)': 0, 'Madagascar': 0, 'New Caledonia': 0, 'Lebanon': 1, 'Liberia': 2, 'Nicaragua': 1, 'Papua New Guine': 1, 'Mozambique': 0, 'Bosnia and Herzegovina': 0, 'Dominican Republic': 0, 'Ecuador': 0, 'St. Kitts and Nevis': 1, 'St. Lucia': 1, 'Trinidad and Tobago': 2, 'Turkmenistan': 1, 'Ghana': 0, 'Macao': 0, 'Aruba': 0, 'El Salvador': 0, 'Guatemala': 0, 'Kuwait': 0, 'Virgin Islands, U.S.': 1})"
      ]
     },
     "execution_count": 12,
     "metadata": {},
     "output_type": "execute_result"
    }
   ],
   "source": [
    "out_degree"
   ]
  },
  {
   "cell_type": "markdown",
   "metadata": {},
   "source": [
    "Máximo pais receptor"
   ]
  },
  {
   "cell_type": "code",
   "execution_count": 13,
   "metadata": {
    "collapsed": true
   },
   "outputs": [],
   "source": [
    "df_2008 = pd.read_csv(\"../fuentes/df_dirigido_2008.csv\", encoding=\"latin-1\")"
   ]
  },
  {
   "cell_type": "code",
   "execution_count": 14,
   "metadata": {
    "collapsed": true
   },
   "outputs": [],
   "source": [
    "df_i = df_2008.loc[df_2008[\"Value\"]>rango].copy()\n",
    "graph = nx.from_pandas_dataframe(df_i[cols], source=\"Reporting country\", target=\"Partner country\",create_using=nx.DiGraph())"
   ]
  },
  {
   "cell_type": "code",
   "execution_count": 18,
   "metadata": {},
   "outputs": [
    {
     "name": "stdout",
     "output_type": "stream",
     "text": [
      "59\n",
      "[('Algeria', 3), ('Spain', 32), ('United States', 59), ('Andorra', 0), ('Angola', 4), ('Portugal', 14), ('Argentina', 11), ('Chile', 24), ('Denmark', 21), ('Australia', 24), ('Brazil', 16), ('Canada', 17), ('Cayman Islands', 11), ('China', 17), ('Cyprus', 15), ('France', 41), ('Germany', 46), ('HongKong', 13), ('Indonesia', 8), ('Ireland', 26), ('Italy', 33), ('Korea', 17), ('Malaysia', 11), ('Netherlands', 37), ('New Zealand', 7), ('NewZealand', 6), ('Norway', 39), ('Philippines', 5), ('Singapore', 16), ('South Africa', 10), ('United Arab Emirates', 12), ('United Kingdom', 37), ('Austria', 14), ('Belgium', 43), ('Bulgaria', 9), ('Croatia', 7), ('Czech Republic', 25), ('Finland', 16), ('Greece', 13), ('Hungary', 22), ('India', 12), ('Liechtenstein', 3), ('Luxembourg', 46), ('Malta', 9), ('Poland', 23), ('Romania', 14), ('Russian Federation', 21), ('Slovak Republic', 11), ('Slovakia', 10), ('Slovenia', 7), ('Sweden', 23), ('Switzerland', 19), ('Turkey', 20), ('Azerbaijan', 3), ('Bahamas', 3), ('Japan', 25), ('Bahrain', 1), ('Barbados', 2), ('Bermuda', 10), ('Congo, the Democratic Republic of the', 1), ('Guernsey', 6), ('Israel', 7), ('Jersey', 5), ('Kazakhstan', 7), ('Korea, Republic of (South Korea)', 11), ('Maghreb countries', 8), ('Mexico', 23), ('Netherlands Antilles', 4), ('Panama', 7), ('Thailand', 6), ('Tunisia', 5), ('Uganda', 1), ('VirginIslands, British', 8), ('Botswana', 0), ('Bouvet Island', 0), ('Iceland', 11), ('Colombia', 5), ('Peru', 4), ('Uruguay', 4), ('Estonia', 7), (\"Côte d'Ivoire\", 1), ('Egypt', 7), ('Mashrek countries', 7), ('Qatar', 3), ('Dominican Republic', 1), ('Equatorial Guinea', 0), ('Latvia', 4), ('Lithuania', 4), ('Ukraine', 7), ('Taiwan, Province of China', 10), ('Congo', 1), ('French Franc zone', 1), ('Gabon', 1), ('Lebanon', 2), ('Libya', 4), ('Mauritius', 4), ('Morocco', 2), ('Nigeria', 5), ('Oman', 2), ('Saudi Arabia', 7), ('Venezuela', 7), ('Viet Nam', 5), ('Yemen', 2), ('Isle of Man', 2), (\"Korea, Dem. People's Republic of (North Korea)\", 2), ('Serbia, Republic of', 5), ('Syrian Arab Republic', 1), ('Trinidad and Tobago', 4), ('Gibraltar', 3), ('Serbia and Montenegro', 1), ('Iran, Islamic Republic of', 2), ('Iraq', 0), ('Albania', 1), ('Anguilla', 1), ('Jordan', 1), ('Mozambique', 1), ('Bangladesh', 1), ('Pakistan', 3), ('Kenya', 1), ('Cambodia (Kampuchea)', 1), ('Madagascar', 1), ('Kuwait', 1), ('Liberia', 1), ('Seychelles', 1), ('Marshall Islands', 1), ('Myanmar', 0), ('Georgia', 1), ('Montenegro, Republic of', 1), ('Papua New Guine', 0), ('San Marino', 0), ('Bosnia and Herzegovina', 1), ('Macedonia, the Former Yugoslav Republic of', 1), ('Bolivia', 1), ('Costa Rica', 3), ('Ecuador', 2), ('Paraguay', 1), ('SriLanka', 0), ('Swaziland', 0), ('US Minor Outlying Islands', 0), ('Ghana', 1), ('Jamaica', 2), ('Zambia', 1), ('El Salvador', 1), ('Guatemala', 1), ('Honduras', 1), ('Macao', 1)]\n"
     ]
    }
   ],
   "source": [
    "in_degree = graph.in_degree()\n",
    "max_in_degree = max(dict(in_degree).values())\n",
    "print(max_in_degree)\n",
    "print(in_degree)"
   ]
  },
  {
   "cell_type": "markdown",
   "metadata": {},
   "source": [
    "Correlación entre coef. de clustering y grado, tomo el año 2008"
   ]
  },
  {
   "cell_type": "code",
   "execution_count": 20,
   "metadata": {
    "collapsed": true
   },
   "outputs": [],
   "source": [
    "  clustering = nx.clustering(graph.to_undirected())"
   ]
  },
  {
   "cell_type": "code",
   "execution_count": 37,
   "metadata": {},
   "outputs": [
    {
     "data": {
      "text/plain": [
       "{'Albania': 0,\n",
       " 'Algeria': 1.0,\n",
       " 'Andorra': 0,\n",
       " 'Angola': 0.9,\n",
       " 'Anguilla': 0,\n",
       " 'Argentina': 0.9696969696969697,\n",
       " 'Australia': 0.5396825396825397,\n",
       " 'Austria': 0.5720720720720721,\n",
       " 'Azerbaijan': 0.9333333333333333,\n",
       " 'Bahamas': 0.9523809523809523,\n",
       " 'Bahrain': 1.0,\n",
       " 'Bangladesh': 0,\n",
       " 'Barbados': 1.0,\n",
       " 'Belgium': 0.30625,\n",
       " 'Bermuda': 0.8431372549019608,\n",
       " 'Bolivia': 0,\n",
       " 'Bosnia and Herzegovina': 0,\n",
       " 'Botswana': 0,\n",
       " 'Bouvet Island': 0,\n",
       " 'Brazil': 0.8789473684210526,\n",
       " 'Bulgaria': 0.9444444444444444,\n",
       " 'Cambodia (Kampuchea)': 0,\n",
       " 'Canada': 0.8152173913043478,\n",
       " 'Cayman Islands': 0.8583333333333333,\n",
       " 'Chile': 0.5566502463054187,\n",
       " 'China': 0.9333333333333333,\n",
       " 'Colombia': 1.0,\n",
       " 'Congo': 0,\n",
       " 'Congo, the Democratic Republic of the': 0,\n",
       " 'Costa Rica': 1.0,\n",
       " 'Croatia': 0.9642857142857143,\n",
       " 'Cyprus': 0.70995670995671,\n",
       " 'Czech Republic': 0.6921182266009852,\n",
       " \"Côte d'Ivoire\": 1.0,\n",
       " 'Denmark': 0.4532839962997225,\n",
       " 'Dominican Republic': 1.0,\n",
       " 'Ecuador': 1.0,\n",
       " 'Egypt': 1.0,\n",
       " 'El Salvador': 0,\n",
       " 'Equatorial Guinea': 0,\n",
       " 'Estonia': 0.6,\n",
       " 'Finland': 0.7068965517241379,\n",
       " 'France': 0.23243423243423245,\n",
       " 'French Franc zone': 1.0,\n",
       " 'Gabon': 1.0,\n",
       " 'Georgia': 0,\n",
       " 'Germany': 0.23858024691358024,\n",
       " 'Ghana': 0,\n",
       " 'Gibraltar': 1.0,\n",
       " 'Greece': 0.6333333333333333,\n",
       " 'Guatemala': 0,\n",
       " 'Guernsey': 0.8666666666666667,\n",
       " 'Honduras': 0,\n",
       " 'HongKong': 0.9019607843137255,\n",
       " 'Hungary': 0.5561497326203209,\n",
       " 'Iceland': 0.8717948717948718,\n",
       " 'India': 0.9487179487179487,\n",
       " 'Indonesia': 0.9777777777777777,\n",
       " 'Iran, Islamic Republic of': 1.0,\n",
       " 'Iraq': 0,\n",
       " 'Ireland': 0.5910931174089069,\n",
       " 'Isle of Man': 1.0,\n",
       " 'Israel': 0.9545454545454546,\n",
       " 'Italy': 0.254728370221328,\n",
       " 'Jamaica': 1.0,\n",
       " 'Japan': 0.37104072398190047,\n",
       " 'Jersey': 1.0,\n",
       " 'Jordan': 0,\n",
       " 'Kazakhstan': 0.9047619047619048,\n",
       " 'Kenya': 1.0,\n",
       " 'Korea': 0.44603174603174606,\n",
       " \"Korea, Dem. People's Republic of (North Korea)\": 1.0,\n",
       " 'Korea, Republic of (South Korea)': 0.95,\n",
       " 'Kuwait': 1.0,\n",
       " 'Latvia': 0.8,\n",
       " 'Lebanon': 1.0,\n",
       " 'Liberia': 0,\n",
       " 'Libya': 1.0,\n",
       " 'Liechtenstein': 0.9523809523809523,\n",
       " 'Lithuania': 0.8333333333333334,\n",
       " 'Luxembourg': 0.32152300370174514,\n",
       " 'Macao': 0,\n",
       " 'Macedonia, the Former Yugoslav Republic of': 0,\n",
       " 'Madagascar': 0,\n",
       " 'Maghreb countries': 1.0,\n",
       " 'Malaysia': 0.9454545454545454,\n",
       " 'Malta': 0.9047619047619048,\n",
       " 'Marshall Islands': 1.0,\n",
       " 'Mashrek countries': 1.0,\n",
       " 'Mauritius': 1.0,\n",
       " 'Mexico': 0.7789855072463768,\n",
       " 'Montenegro, Republic of': 0,\n",
       " 'Morocco': 1.0,\n",
       " 'Mozambique': 1.0,\n",
       " 'Myanmar': 0,\n",
       " 'Netherlands': 0.3997204751921733,\n",
       " 'Netherlands Antilles': 1.0,\n",
       " 'New Zealand': 0.8571428571428571,\n",
       " 'NewZealand': 0.9722222222222222,\n",
       " 'Nigeria': 1.0,\n",
       " 'Norway': 0.2935064935064935,\n",
       " 'Oman': 1.0,\n",
       " 'Pakistan': 1.0,\n",
       " 'Panama': 0.9444444444444444,\n",
       " 'Papua New Guine': 0,\n",
       " 'Paraguay': 0,\n",
       " 'Peru': 1.0,\n",
       " 'Philippines': 1.0,\n",
       " 'Poland': 0.7521367521367521,\n",
       " 'Portugal': 0.7714285714285715,\n",
       " 'Qatar': 0.9642857142857143,\n",
       " 'Romania': 0.989010989010989,\n",
       " 'Russian Federation': 0.8379446640316206,\n",
       " 'San Marino': 0,\n",
       " 'Saudi Arabia': 0.9777777777777777,\n",
       " 'Serbia and Montenegro': 0,\n",
       " 'Serbia, Republic of': 0.8,\n",
       " 'Seychelles': 0,\n",
       " 'Singapore': 0.8736842105263158,\n",
       " 'Slovak Republic': 0.7238095238095238,\n",
       " 'Slovakia': 1.0,\n",
       " 'Slovenia': 0.5824175824175825,\n",
       " 'South Africa': 1.0,\n",
       " 'Spain': 0.3325540619520748,\n",
       " 'SriLanka': 0,\n",
       " 'Swaziland': 0,\n",
       " 'Sweden': 0.40874811463046756,\n",
       " 'Switzerland': 0.4117647058823529,\n",
       " 'Syrian Arab Republic': 0,\n",
       " 'Taiwan, Province of China': 0.8787878787878788,\n",
       " 'Thailand': 0.8888888888888888,\n",
       " 'Trinidad and Tobago': 1.0,\n",
       " 'Tunisia': 1.0,\n",
       " 'Turkey': 0.5384615384615384,\n",
       " 'US Minor Outlying Islands': 0,\n",
       " 'Uganda': 0,\n",
       " 'Ukraine': 0.8214285714285714,\n",
       " 'United Arab Emirates': 0.9428571428571428,\n",
       " 'United Kingdom': 0.2519298245614035,\n",
       " 'United States': 0.20188069350573024,\n",
       " 'Uruguay': 1.0,\n",
       " 'Venezuela': 1.0,\n",
       " 'Viet Nam': 1.0,\n",
       " 'VirginIslands, British': 0.8846153846153846,\n",
       " 'Yemen': 1.0,\n",
       " 'Zambia': 0}"
      ]
     },
     "execution_count": 37,
     "metadata": {},
     "output_type": "execute_result"
    }
   ],
   "source": [
    "clustering"
   ]
  },
  {
   "cell_type": "code",
   "execution_count": 33,
   "metadata": {},
   "outputs": [
    {
     "data": {
      "text/plain": [
       "[0,\n",
       " 1,\n",
       " 2,\n",
       " 3,\n",
       " 4,\n",
       " 5,\n",
       " 6,\n",
       " 7,\n",
       " 8,\n",
       " 9,\n",
       " 10,\n",
       " 11,\n",
       " 12,\n",
       " 13,\n",
       " 14,\n",
       " 15,\n",
       " 16,\n",
       " 17,\n",
       " 18,\n",
       " 19,\n",
       " 20,\n",
       " 21,\n",
       " 22,\n",
       " 23,\n",
       " 24,\n",
       " 25,\n",
       " 26,\n",
       " 27,\n",
       " 28,\n",
       " 29,\n",
       " 30,\n",
       " 31,\n",
       " 32,\n",
       " 33,\n",
       " 34,\n",
       " 35,\n",
       " 36,\n",
       " 37,\n",
       " 38,\n",
       " 39,\n",
       " 40,\n",
       " 41,\n",
       " 42,\n",
       " 43,\n",
       " 44,\n",
       " 45,\n",
       " 46,\n",
       " 47,\n",
       " 48,\n",
       " 49,\n",
       " 50,\n",
       " 51,\n",
       " 52,\n",
       " 53,\n",
       " 54,\n",
       " 55,\n",
       " 56,\n",
       " 57,\n",
       " 58,\n",
       " 59,\n",
       " 60,\n",
       " 61,\n",
       " 62,\n",
       " 63,\n",
       " 64,\n",
       " 65,\n",
       " 66,\n",
       " 67,\n",
       " 68,\n",
       " 69,\n",
       " 70,\n",
       " 71,\n",
       " 72,\n",
       " 73,\n",
       " 74,\n",
       " 75,\n",
       " 76,\n",
       " 77,\n",
       " 78,\n",
       " 79,\n",
       " 80,\n",
       " 81,\n",
       " 82,\n",
       " 83,\n",
       " 84,\n",
       " 85,\n",
       " 86,\n",
       " 87,\n",
       " 88,\n",
       " 89,\n",
       " 90,\n",
       " 91,\n",
       " 92,\n",
       " 93,\n",
       " 94,\n",
       " 95,\n",
       " 96,\n",
       " 97,\n",
       " 98,\n",
       " 99,\n",
       " 100,\n",
       " 101,\n",
       " 102,\n",
       " 103,\n",
       " 104,\n",
       " 105,\n",
       " 106,\n",
       " 107,\n",
       " 108,\n",
       " 109,\n",
       " 110,\n",
       " 111,\n",
       " 112,\n",
       " 113,\n",
       " 114,\n",
       " 115,\n",
       " 116,\n",
       " 117,\n",
       " 118,\n",
       " 119,\n",
       " 120,\n",
       " 121,\n",
       " 122,\n",
       " 123,\n",
       " 124,\n",
       " 125,\n",
       " 126,\n",
       " 127,\n",
       " 128,\n",
       " 129,\n",
       " 130,\n",
       " 131,\n",
       " 132,\n",
       " 133,\n",
       " 134,\n",
       " 135,\n",
       " 136,\n",
       " 137,\n",
       " 138,\n",
       " 139,\n",
       " 140,\n",
       " 141,\n",
       " 142,\n",
       " 143,\n",
       " 144,\n",
       " 145]"
      ]
     },
     "execution_count": 33,
     "metadata": {},
     "output_type": "execute_result"
    }
   ],
   "source": [
    "idx = [e for e in range(0,len(clustering))]\n",
    "idx"
   ]
  },
  {
   "cell_type": "code",
   "execution_count": 42,
   "metadata": {},
   "outputs": [],
   "source": [
    "clust_df = pd.DataFrame(clustering, index = [0]).transpose()"
   ]
  },
  {
   "cell_type": "code",
   "execution_count": 48,
   "metadata": {},
   "outputs": [],
   "source": [
    "clust_df['countries'] = clust_df.index"
   ]
  },
  {
   "cell_type": "code",
   "execution_count": 51,
   "metadata": {},
   "outputs": [],
   "source": [
    "clust_df.columns = ['clust_coef','countries']"
   ]
  },
  {
   "cell_type": "code",
   "execution_count": 52,
   "metadata": {},
   "outputs": [
    {
     "data": {
      "text/html": [
       "<div>\n",
       "<style>\n",
       "    .dataframe thead tr:only-child th {\n",
       "        text-align: right;\n",
       "    }\n",
       "\n",
       "    .dataframe thead th {\n",
       "        text-align: left;\n",
       "    }\n",
       "\n",
       "    .dataframe tbody tr th {\n",
       "        vertical-align: top;\n",
       "    }\n",
       "</style>\n",
       "<table border=\"1\" class=\"dataframe\">\n",
       "  <thead>\n",
       "    <tr style=\"text-align: right;\">\n",
       "      <th></th>\n",
       "      <th>clust_coef</th>\n",
       "      <th>countries</th>\n",
       "    </tr>\n",
       "  </thead>\n",
       "  <tbody>\n",
       "    <tr>\n",
       "      <th>Albania</th>\n",
       "      <td>0.0</td>\n",
       "      <td>Albania</td>\n",
       "    </tr>\n",
       "    <tr>\n",
       "      <th>Algeria</th>\n",
       "      <td>1.0</td>\n",
       "      <td>Algeria</td>\n",
       "    </tr>\n",
       "    <tr>\n",
       "      <th>Andorra</th>\n",
       "      <td>0.0</td>\n",
       "      <td>Andorra</td>\n",
       "    </tr>\n",
       "    <tr>\n",
       "      <th>Angola</th>\n",
       "      <td>0.9</td>\n",
       "      <td>Angola</td>\n",
       "    </tr>\n",
       "    <tr>\n",
       "      <th>Anguilla</th>\n",
       "      <td>0.0</td>\n",
       "      <td>Anguilla</td>\n",
       "    </tr>\n",
       "  </tbody>\n",
       "</table>\n",
       "</div>"
      ],
      "text/plain": [
       "          clust_coef countries\n",
       "Albania          0.0   Albania\n",
       "Algeria          1.0   Algeria\n",
       "Andorra          0.0   Andorra\n",
       "Angola           0.9    Angola\n",
       "Anguilla         0.0  Anguilla"
      ]
     },
     "execution_count": 52,
     "metadata": {},
     "output_type": "execute_result"
    }
   ],
   "source": [
    "clust_df.head()"
   ]
  },
  {
   "cell_type": "code",
   "execution_count": null,
   "metadata": {
    "collapsed": true
   },
   "outputs": [],
   "source": [
    "degree_df = pd.DataFrame(in_degree, index = [0]).transpose()"
   ]
  },
  {
   "cell_type": "code",
   "execution_count": null,
   "metadata": {
    "collapsed": true
   },
   "outputs": [],
   "source": [
    "in_degree"
   ]
  }
 ],
 "metadata": {
  "kernelspec": {
   "display_name": "Python 3",
   "language": "python",
   "name": "python3"
  },
  "language_info": {
   "codemirror_mode": {
    "name": "ipython",
    "version": 3
   },
   "file_extension": ".py",
   "mimetype": "text/x-python",
   "name": "python",
   "nbconvert_exporter": "python",
   "pygments_lexer": "ipython3",
   "version": "3.6.2"
  }
 },
 "nbformat": 4,
 "nbformat_minor": 2
}
