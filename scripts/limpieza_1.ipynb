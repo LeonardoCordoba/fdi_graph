{
 "cells": [
  {
   "cell_type": "code",
   "execution_count": 1,
   "metadata": {
    "collapsed": true
   },
   "outputs": [],
   "source": [
    "import pandas as pd"
   ]
  },
  {
   "cell_type": "code",
   "execution_count": 2,
   "metadata": {
    "collapsed": true
   },
   "outputs": [],
   "source": [
    "df = pd.read_csv(\"FDI_FLOW_PARTNER_18122017211603156.csv\")"
   ]
  },
  {
   "cell_type": "code",
   "execution_count": 3,
   "metadata": {
    "collapsed": true
   },
   "outputs": [],
   "source": [
    "df = pd.DataFrame(df)"
   ]
  },
  {
   "cell_type": "markdown",
   "metadata": {},
   "source": [
    "Me quedo sólo con los valores en dólares"
   ]
  },
  {
   "cell_type": "code",
   "execution_count": 4,
   "metadata": {
    "collapsed": true
   },
   "outputs": [],
   "source": [
    "df = df[df['CUR'] == \"USD\"]"
   ]
  },
  {
   "cell_type": "markdown",
   "metadata": {},
   "source": [
    "Me quedo con los datos sólo de países, para ello excluyo a las regiones"
   ]
  },
  {
   "cell_type": "code",
   "execution_count": 6,
   "metadata": {
    "collapsed": true
   },
   "outputs": [],
   "source": [
    "regiones_eco = ['ACP countries', 'AFRICA', 'African ACP countries','AMERICA', 'ASEAN countries', 'ASIA','BALTIC COUNTRIES', \n",
    "                'BLEU', 'Caribbean ACP countries', \n",
    "       'CENTRAL AMERICA', 'CIS countries',\n",
    "       'EFTA', 'EU15',\n",
    "       'EU25', 'EUROPE', 'Other territories', 'GULF ARABIAN COUNTRIES','Latin America countries',\n",
    "\t   'Mediterranean Basin countries', 'MERCOSUR', 'NAFTA',\n",
    "       'NEAR AND MIDDLE EAST', \n",
    "       'NICs1', 'NICs2A', 'NICs2LA', 'NORTH AFRICA', 'NORTH AMERICA',\n",
    "       'OCEANIA & POLAR REGIONS',\n",
    "       'OECD', 'OPEC countries',\n",
    "       'OTHER AFRICAN COUNTRIES (Excluding North Africa)',\n",
    "       'OTHER ASIAN COUNTRIES (Excluding Near and Middle East)',\n",
    "       'Other Central/Eastern Europe',\n",
    "       'NEAR AND MIDDLE EAST COUNTRIES OTHER THAN GULF STATES',\n",
    "       'Pacific ACP countries', 'SOUTH AMERICA',\n",
    "       'TOTAL WORLD',\n",
    "       'EUROPE Unallocated',\n",
    "       'EUROPE (Excluding OECD countries)', 'AFRICA Unallocated',\n",
    "       'North Africa - Unallocated',\n",
    "       'Africa excluding North African countries- Unallocated',\n",
    "       'AMERICA Unallocated', 'Central America - Unallocated',\n",
    "       'CENTRAL AMERICA (Excluding OECD countries)',\n",
    "       'South America - Unallocated', 'ASIA Unallocated',\n",
    "       'ASIA (Excluding OECD countries)',\n",
    "       'Near and Middle East - Unallocated',\n",
    "       'Gulf Arabian countries - Unallocated',\n",
    "       'Near and Middle East countries excluding Gulf states - Unallocated',\n",
    "       'Other Asian countries - Unallocated',\n",
    "       'OTHER ASIAN COUNTRIES (Excluding Near and Middle East and OECD countries)',\n",
    "       'Oceania & Polar Regions - Unallocated',\n",
    "       'OCEANIA & POLAR REGIONS (Excluding OECD countries)',\n",
    "       'TOTAL WORLD Unallocated', 'TOTAL WORLD (Excluding OECD countries)',\n",
    "       'OECD - Unallocated', 'NORTH AMERICA (Excluding OECD countries)',\n",
    "       'AMERICA (Excluding OECD countries)', 'Economic zones', 'EU27',\n",
    "       'SOUTH AMERICA (Excluding OECD countries)',\n",
    "       'NEAR AND MIDDLE EAST (Excluding OECD countries)']"
   ]
  },
  {
   "cell_type": "code",
   "execution_count": 8,
   "metadata": {
    "collapsed": true
   },
   "outputs": [],
   "source": [
    "df = df[~df['Partner country'].isin(regiones_eco) & ~df['Reporting country'].isin(regiones_eco)]"
   ]
  },
  {
   "cell_type": "code",
   "execution_count": 25,
   "metadata": {
    "collapsed": true
   },
   "outputs": [],
   "source": [
    "df.to_csv(\"fdi_paises.csv\")"
   ]
  }
 ],
 "metadata": {
  "kernelspec": {
   "display_name": "Python 3",
   "language": "python",
   "name": "python3"
  },
  "language_info": {
   "codemirror_mode": {
    "name": "ipython",
    "version": 3
   },
   "file_extension": ".py",
   "mimetype": "text/x-python",
   "name": "python",
   "nbconvert_exporter": "python",
   "pygments_lexer": "ipython3",
   "version": "3.6.2"
  }
 },
 "nbformat": 4,
 "nbformat_minor": 2
}
