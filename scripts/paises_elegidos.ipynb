{
 "cells": [
  {
   "cell_type": "code",
   "execution_count": 33,
   "metadata": {
    "collapsed": true
   },
   "outputs": [],
   "source": [
    "import pandas as pd\n",
    "import numpy as np\n",
    "import networkx as nx\n",
    "import matplotlib.pyplot as plt"
   ]
  },
  {
   "cell_type": "code",
   "execution_count": 34,
   "metadata": {
    "collapsed": true
   },
   "outputs": [],
   "source": [
    "df_2003 = pd.read_csv(\"../fuentes/df_dirigido_2003.csv\", encoding=\"latin-1\")\n",
    "df_2004 = pd.read_csv(\"../fuentes/df_dirigido_2004.csv\", encoding=\"latin-1\")\n",
    "df_2005 = pd.read_csv(\"../fuentes/df_dirigido_2005.csv\", encoding=\"latin-1\")\n",
    "df_2006 = pd.read_csv(\"../fuentes/df_dirigido_2006.csv\", encoding=\"latin-1\")\n",
    "df_2007 = pd.read_csv(\"../fuentes/df_dirigido_2007.csv\", encoding=\"latin-1\")\n",
    "df_2008 = pd.read_csv(\"../fuentes/df_dirigido_2008.csv\", encoding=\"latin-1\")\n",
    "df_2009 = pd.read_csv(\"../fuentes/df_dirigido_2009.csv\", encoding=\"latin-1\")\n",
    "df_2010 = pd.read_csv(\"../fuentes/df_dirigido_2010.csv\", encoding=\"latin-1\")\n",
    "df_2011 = pd.read_csv(\"../fuentes/df_dirigido_2011.csv\", encoding=\"latin-1\")\n",
    "df_2012 = pd.read_csv(\"../fuentes/df_dirigido_2012.csv\", encoding=\"latin-1\")\n",
    "df_2013 = pd.read_csv(\"../fuentes/df_dirigido_2013.csv\", encoding=\"latin-1\")"
   ]
  },
  {
   "cell_type": "code",
   "execution_count": 35,
   "metadata": {
    "collapsed": true
   },
   "outputs": [],
   "source": [
    "df_list = [df_2003, df_2004, df_2005, df_2006, df_2007, df_2008, df_2009, df_2010, df_2011, df_2012, df_2013]"
   ]
  },
  {
   "cell_type": "code",
   "execution_count": 36,
   "metadata": {
    "collapsed": true
   },
   "outputs": [],
   "source": [
    "df_completo = pd.concat(df_list)"
   ]
  },
  {
   "cell_type": "code",
   "execution_count": 45,
   "metadata": {
    "collapsed": true
   },
   "outputs": [],
   "source": [
    "df_sum_1 = df_completo.groupby(\"Reporting country\").sum().sort_values(\"Value\", ascending = False)\n",
    "df_sum_1['cum_sum'] = df_sum_1.Value.cumsum()\n",
    "df_sum_1['cum_perc'] = 100*df_sum_1.cum_sum/df_sum_1.Value.sum()\n",
    "list_1 = list(df_sum_1[df_sum_1[\"cum_perc\"]<95].index.values)"
   ]
  },
  {
   "cell_type": "code",
   "execution_count": 46,
   "metadata": {
    "collapsed": true
   },
   "outputs": [],
   "source": [
    "df_sum_2 = df_completo.groupby(\"Partner country\").sum().sort_values(\"Value\", ascending = False)\n",
    "df_sum_2['cum_sum'] = df_sum_2.Value.cumsum()\n",
    "df_sum_2['cum_perc'] = 100*df_sum_2.cum_sum/df_sum_2.Value.sum()\n",
    "list_2 = list(df_sum_2[df_sum_2[\"cum_perc\"]<95].index.values)"
   ]
  },
  {
   "cell_type": "code",
   "execution_count": 47,
   "metadata": {
    "collapsed": true
   },
   "outputs": [],
   "source": [
    "list_3 = [val for val in list_1 if val in list_2]"
   ]
  },
  {
   "cell_type": "code",
   "execution_count": 48,
   "metadata": {},
   "outputs": [
    {
     "data": {
      "text/plain": [
       "26"
      ]
     },
     "execution_count": 48,
     "metadata": {},
     "output_type": "execute_result"
    }
   ],
   "source": [
    "len(list_3)"
   ]
  },
  {
   "cell_type": "code",
   "execution_count": 49,
   "metadata": {},
   "outputs": [
    {
     "data": {
      "text/plain": [
       "['United States',\n",
       " 'Luxembourg',\n",
       " 'United Kingdom',\n",
       " 'Netherlands',\n",
       " 'Germany',\n",
       " 'France',\n",
       " 'Belgium',\n",
       " 'Switzerland',\n",
       " 'Japan',\n",
       " 'Spain',\n",
       " 'Italy',\n",
       " 'Canada',\n",
       " 'Ireland',\n",
       " 'Sweden',\n",
       " 'Austria',\n",
       " 'Australia',\n",
       " 'Denmark',\n",
       " 'Norway',\n",
       " 'Bermuda',\n",
       " 'Finland',\n",
       " 'Cayman Islands',\n",
       " 'Hungary',\n",
       " 'Singapore',\n",
       " 'Poland',\n",
       " 'Gibraltar',\n",
       " 'Portugal']"
      ]
     },
     "execution_count": 49,
     "metadata": {},
     "output_type": "execute_result"
    }
   ],
   "source": [
    "list_3"
   ]
  },
  {
   "cell_type": "code",
   "execution_count": 50,
   "metadata": {
    "collapsed": true
   },
   "outputs": [],
   "source": [
    "# Open File\n",
    "resultFyle = open(\"../resultados/paises.csv\",'w')\n",
    "\n",
    "# Write data to file\n",
    "for r in list_3:\n",
    "    resultFyle.write(r + \"\\n\")\n",
    "resultFyle.close()"
   ]
  },
  {
   "cell_type": "code",
   "execution_count": 70,
   "metadata": {},
   "outputs": [],
   "source": [
    "df_promedio = df_completo.loc[((df_completo[\"Reporting country\"].isin(list_3)) & (df_completo[\"Partner country\"].isin(list_3)))].groupby([\"Reporting country\", \"Partner country\"]).mean()"
   ]
  },
  {
   "cell_type": "code",
   "execution_count": 71,
   "metadata": {
    "collapsed": true
   },
   "outputs": [],
   "source": [
    "df_promedio.to_csv(\"../resultados/df_promedio.csv\")"
   ]
  },
  {
   "cell_type": "code",
   "execution_count": 72,
   "metadata": {},
   "outputs": [
    {
     "data": {
      "text/plain": [
       "(633600, 4)"
      ]
     },
     "execution_count": 72,
     "metadata": {},
     "output_type": "execute_result"
    }
   ],
   "source": [
    "df_completo.shape"
   ]
  },
  {
   "cell_type": "code",
   "execution_count": null,
   "metadata": {
    "collapsed": true
   },
   "outputs": [],
   "source": []
  }
 ],
 "metadata": {
  "kernelspec": {
   "display_name": "Python 3",
   "language": "python",
   "name": "python3"
  },
  "language_info": {
   "codemirror_mode": {
    "name": "ipython",
    "version": 3
   },
   "file_extension": ".py",
   "mimetype": "text/x-python",
   "name": "python",
   "nbconvert_exporter": "python",
   "pygments_lexer": "ipython3",
   "version": "3.6.2"
  }
 },
 "nbformat": 4,
 "nbformat_minor": 2
}
