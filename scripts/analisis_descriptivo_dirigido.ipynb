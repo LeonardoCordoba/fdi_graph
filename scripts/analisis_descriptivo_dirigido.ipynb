{
 "cells": [
  {
   "cell_type": "code",
   "execution_count": 7,
   "metadata": {
    "collapsed": true
   },
   "outputs": [],
   "source": [
    "import pandas as pd\n",
    "import numpy as np\n",
    "import matplotlib.pyplot as plt\n",
    "import seaborn as sns"
   ]
  },
  {
   "cell_type": "code",
   "execution_count": 8,
   "metadata": {
    "collapsed": true
   },
   "outputs": [],
   "source": [
    "df_2003 = pd.read_csv(\"df_dirigido_2003.csv\", encoding=\"latin-1\")\n",
    "df_2004 = pd.read_csv(\"df_dirigido_2004.csv\", encoding=\"latin-1\")\n",
    "df_2005 = pd.read_csv(\"df_dirigido_2005.csv\", encoding=\"latin-1\")\n",
    "df_2006 = pd.read_csv(\"df_dirigido_2006.csv\", encoding=\"latin-1\")\n",
    "df_2007 = pd.read_csv(\"df_dirigido_2007.csv\", encoding=\"latin-1\")\n",
    "df_2008 = pd.read_csv(\"df_dirigido_2008.csv\", encoding=\"latin-1\")\n",
    "df_2009 = pd.read_csv(\"df_dirigido_2009.csv\", encoding=\"latin-1\")\n",
    "df_2010 = pd.read_csv(\"df_dirigido_2010.csv\", encoding=\"latin-1\")\n",
    "df_2011 = pd.read_csv(\"df_dirigido_2011.csv\", encoding=\"latin-1\")\n",
    "df_2012 = pd.read_csv(\"df_dirigido_2012.csv\", encoding=\"latin-1\")\n",
    "df_2013 = pd.read_csv(\"df_dirigido_2013.csv\", encoding=\"latin-1\")"
   ]
  },
  {
   "cell_type": "code",
   "execution_count": 28,
   "metadata": {
    "collapsed": true
   },
   "outputs": [],
   "source": [
    "df_list = [df_2003, df_2004, df_2005, df_2006, df_2007, df_2008, df_2009, df_2010, df_2011, df_2012, df_2013]"
   ]
  },
  {
   "cell_type": "code",
   "execution_count": 29,
   "metadata": {
    "collapsed": true
   },
   "outputs": [],
   "source": [
    "years = [2003, 2004, 2005, 2006, 2007, 2008, 2009, 2010, 2011, 2012, 2013]"
   ]
  },
  {
   "cell_type": "code",
   "execution_count": 30,
   "metadata": {
    "collapsed": true
   },
   "outputs": [],
   "source": [
    "sum_value = []\n",
    "for i in df_list:\n",
    "    sum_value.append(i[\"Value\"].sum())"
   ]
  },
  {
   "cell_type": "code",
   "execution_count": 31,
   "metadata": {
    "collapsed": true
   },
   "outputs": [],
   "source": [
    "df_1 = pd.DataFrame(sum_value, years)"
   ]
  },
  {
   "cell_type": "code",
   "execution_count": 32,
   "metadata": {},
   "outputs": [
    {
     "data": {
      "text/html": [
       "<div>\n",
       "<style>\n",
       "    .dataframe thead tr:only-child th {\n",
       "        text-align: right;\n",
       "    }\n",
       "\n",
       "    .dataframe thead th {\n",
       "        text-align: left;\n",
       "    }\n",
       "\n",
       "    .dataframe tbody tr th {\n",
       "        vertical-align: top;\n",
       "    }\n",
       "</style>\n",
       "<table border=\"1\" class=\"dataframe\">\n",
       "  <thead>\n",
       "    <tr style=\"text-align: right;\">\n",
       "      <th></th>\n",
       "      <th>0</th>\n",
       "    </tr>\n",
       "  </thead>\n",
       "  <tbody>\n",
       "    <tr>\n",
       "      <th>2003</th>\n",
       "      <td>1449051.885</td>\n",
       "    </tr>\n",
       "    <tr>\n",
       "      <th>2004</th>\n",
       "      <td>1975936.873</td>\n",
       "    </tr>\n",
       "    <tr>\n",
       "      <th>2005</th>\n",
       "      <td>2466260.960</td>\n",
       "    </tr>\n",
       "    <tr>\n",
       "      <th>2006</th>\n",
       "      <td>2747515.569</td>\n",
       "    </tr>\n",
       "    <tr>\n",
       "      <th>2007</th>\n",
       "      <td>4204434.030</td>\n",
       "    </tr>\n",
       "    <tr>\n",
       "      <th>2008</th>\n",
       "      <td>4443218.538</td>\n",
       "    </tr>\n",
       "    <tr>\n",
       "      <th>2009</th>\n",
       "      <td>3324805.786</td>\n",
       "    </tr>\n",
       "    <tr>\n",
       "      <th>2010</th>\n",
       "      <td>3161753.394</td>\n",
       "    </tr>\n",
       "    <tr>\n",
       "      <th>2011</th>\n",
       "      <td>3634214.539</td>\n",
       "    </tr>\n",
       "    <tr>\n",
       "      <th>2012</th>\n",
       "      <td>3782702.290</td>\n",
       "    </tr>\n",
       "    <tr>\n",
       "      <th>2013</th>\n",
       "      <td>375302.102</td>\n",
       "    </tr>\n",
       "  </tbody>\n",
       "</table>\n",
       "</div>"
      ],
      "text/plain": [
       "                0\n",
       "2003  1449051.885\n",
       "2004  1975936.873\n",
       "2005  2466260.960\n",
       "2006  2747515.569\n",
       "2007  4204434.030\n",
       "2008  4443218.538\n",
       "2009  3324805.786\n",
       "2010  3161753.394\n",
       "2011  3634214.539\n",
       "2012  3782702.290\n",
       "2013   375302.102"
      ]
     },
     "execution_count": 32,
     "metadata": {},
     "output_type": "execute_result"
    }
   ],
   "source": [
    "df_1"
   ]
  },
  {
   "cell_type": "code",
   "execution_count": 62,
   "metadata": {},
   "outputs": [
    {
     "data": {
      "text/plain": [
       "1449051.8849999977"
      ]
     },
     "execution_count": 62,
     "metadata": {},
     "output_type": "execute_result"
    }
   ],
   "source": [
    "df_2003[\"Value\"].sum()"
   ]
  },
  {
   "cell_type": "code",
   "execution_count": 66,
   "metadata": {},
   "outputs": [
    {
     "data": {
      "text/plain": [
       "645435.2409999997"
      ]
     },
     "execution_count": 66,
     "metadata": {},
     "output_type": "execute_result"
    }
   ],
   "source": [
    "df_2003.loc[df_2003[\"Partner country\"].isin(partners_list),\"Value\"].sum()"
   ]
  },
  {
   "cell_type": "code",
   "execution_count": 67,
   "metadata": {},
   "outputs": [
    {
     "data": {
      "text/plain": [
       "44.541899961021805"
      ]
     },
     "execution_count": 67,
     "metadata": {},
     "output_type": "execute_result"
    }
   ],
   "source": [
    "df_2003.loc[df_2003[\"Partner country\"].isin(partners_list),\"Value\"].sum()/df_2003[\"Value\"].sum()*100"
   ]
  },
  {
   "cell_type": "code",
   "execution_count": 61,
   "metadata": {},
   "outputs": [
    {
     "data": {
      "text/html": [
       "<div>\n",
       "<style>\n",
       "    .dataframe thead tr:only-child th {\n",
       "        text-align: right;\n",
       "    }\n",
       "\n",
       "    .dataframe thead th {\n",
       "        text-align: left;\n",
       "    }\n",
       "\n",
       "    .dataframe tbody tr th {\n",
       "        vertical-align: top;\n",
       "    }\n",
       "</style>\n",
       "<table border=\"1\" class=\"dataframe\">\n",
       "  <thead>\n",
       "    <tr style=\"text-align: right;\">\n",
       "      <th></th>\n",
       "      <th>Unnamed: 0</th>\n",
       "      <th>Value</th>\n",
       "    </tr>\n",
       "    <tr>\n",
       "      <th>Reporting country</th>\n",
       "      <th></th>\n",
       "      <th></th>\n",
       "    </tr>\n",
       "  </thead>\n",
       "  <tbody>\n",
       "    <tr>\n",
       "      <th>United States</th>\n",
       "      <td>13103880</td>\n",
       "      <td>227180.925</td>\n",
       "    </tr>\n",
       "    <tr>\n",
       "      <th>Luxembourg</th>\n",
       "      <td>7228680</td>\n",
       "      <td>177659.187</td>\n",
       "    </tr>\n",
       "    <tr>\n",
       "      <th>Netherlands</th>\n",
       "      <td>8726280</td>\n",
       "      <td>132161.238</td>\n",
       "    </tr>\n",
       "    <tr>\n",
       "      <th>United Kingdom</th>\n",
       "      <td>13046280</td>\n",
       "      <td>126591.928</td>\n",
       "    </tr>\n",
       "    <tr>\n",
       "      <th>Germany</th>\n",
       "      <td>4521480</td>\n",
       "      <td>104291.490</td>\n",
       "    </tr>\n",
       "  </tbody>\n",
       "</table>\n",
       "</div>"
      ],
      "text/plain": [
       "                   Unnamed: 0       Value\n",
       "Reporting country                        \n",
       "United States        13103880  227180.925\n",
       "Luxembourg            7228680  177659.187\n",
       "Netherlands           8726280  132161.238\n",
       "United Kingdom       13046280  126591.928\n",
       "Germany               4521480  104291.490"
      ]
     },
     "execution_count": 61,
     "metadata": {},
     "output_type": "execute_result"
    }
   ],
   "source": [
    "df_2003.groupby(\"Reporting country\").sum().sort_values(\"Value\", ascending = False).head()"
   ]
  },
  {
   "cell_type": "code",
   "execution_count": 52,
   "metadata": {
    "collapsed": true
   },
   "outputs": [],
   "source": [
    "sns.set_style(\"ticks\")\n",
    "plt.plot(df_1, linestyle=':', linewidth = 3)\n",
    "plt.title(\"Valor total de IED por año\", loc='left', fontsize=12, fontweight=0, color='orange')\n",
    "plt.xlabel(\"Año\")\n",
    "plt.ylabel(\"Valor\")\n",
    "path = \"C:\\\\Users\\\\vsilecor.NET01\\\\Downloads\\\\grafos-20180118T165154Z-001\\\\grafos\\\\resultados\\\\graficos\\\\analisis_descriptivo\\\\valor_ied_por_ano.png\"\n",
    "plt.savefig(path)\n",
    "plt.close()"
   ]
  },
  {
   "cell_type": "code",
   "execution_count": 53,
   "metadata": {
    "collapsed": true
   },
   "outputs": [],
   "source": [
    "df_completo = pd.concat(df_list)"
   ]
  },
  {
   "cell_type": "code",
   "execution_count": 54,
   "metadata": {
    "collapsed": true
   },
   "outputs": [],
   "source": [
    "reporting = df_completo.groupby(\"Reporting country\").sum().sort_values(\"Value\", ascending = False).head()\n",
    "reporting_list = reporting.index"
   ]
  },
  {
   "cell_type": "code",
   "execution_count": 55,
   "metadata": {
    "collapsed": true
   },
   "outputs": [],
   "source": [
    "partners = df_completo.groupby(\"Partner country\").sum().sort_values(\"Value\", ascending = False).head()\n",
    "partners_list = partners.index"
   ]
  },
  {
   "cell_type": "code",
   "execution_count": 56,
   "metadata": {},
   "outputs": [
    {
     "data": {
      "text/plain": [
       "767884.7680000002"
      ]
     },
     "execution_count": 56,
     "metadata": {},
     "output_type": "execute_result"
    }
   ],
   "source": [
    "df_2003.loc[df_2003[\"Reporting country\"].isin(reporting_list),\"Value\"].sum()"
   ]
  },
  {
   "cell_type": "code",
   "execution_count": 57,
   "metadata": {
    "collapsed": true
   },
   "outputs": [],
   "source": [
    "reporting_prop_value = []\n",
    "for i in df_list:\n",
    "    reporting_i = i.loc[i[\"Reporting country\"].isin(reporting_list),\"Value\"].sum()\n",
    "    total_i = i[\"Value\"].sum()\n",
    "    reporting_prop_value.append(reporting_i/total_i*100)"
   ]
  },
  {
   "cell_type": "code",
   "execution_count": 58,
   "metadata": {},
   "outputs": [
    {
     "data": {
      "image/png": "[encoded data removed]",
      "text/plain": [
       "<matplotlib.figure.Figure at 0xecd84a8>"
      ]
     },
     "metadata": {},
     "output_type": "display_data"
    }
   ],
   "source": [
    "df_2 = pd.DataFrame({\"prop\" : reporting_prop_value, \"years\" : years})\n",
    "df_2.index = df_2.years\n",
    "sns.set_style(\"ticks\")\n",
    "plt.plot(df_2[\"prop\"], linestyle=':', linewidth = 3)\n",
    "plt.title(\"Porcentaje de IED total emitida \\n por los principales 5 países emisores\", loc='left', fontsize=12, fontweight=0, color='orange')\n",
    "plt.xlabel(\"Año\")\n",
    "plt.ylabel(\"Porcentaje\")\n",
    "plt.show()\n",
    "#path = \"C:\\\\Users\\\\vsilecor.NET01\\\\Downloads\\\\grafos-20180118T165154Z-001\\\\grafos\\\\resultados\\\\graficos\\\\analisis_descriptivo\\\\ied_emisores_total_por_ano.png\"\n",
    "#plt.savefig(path)\n",
    "#plt.close()"
   ]
  },
  {
   "cell_type": "code",
   "execution_count": 68,
   "metadata": {
    "collapsed": true
   },
   "outputs": [],
   "source": [
    "partner_prop_value = []\n",
    "for i in df_list:\n",
    "    partner_i = i.loc[i[\"Partner country\"].isin(partners_list),\"Value\"].sum()\n",
    "    total_i = i[\"Value\"].sum()\n",
    "\n",
    "    partner_prop_value.append(partner_i/total_i*100)"
   ]
  },
  {
   "cell_type": "code",
   "execution_count": 69,
   "metadata": {},
   "outputs": [
    {
     "data": {
      "text/plain": [
       "[44.541899961021805,\n",
       " 47.46184080142916,\n",
       " 49.769295784498055,\n",
       " 47.017724979450456,\n",
       " 47.827612364749214,\n",
       " 47.0488686100275,\n",
       " 45.3470163384756,\n",
       " 46.29096553758618,\n",
       " 50.17072768911732,\n",
       " 50.880689053644566,\n",
       " 26.866832736257912]"
      ]
     },
     "execution_count": 69,
     "metadata": {},
     "output_type": "execute_result"
    }
   ],
   "source": [
    "partner_prop_value"
   ]
  },
  {
   "cell_type": "code",
   "execution_count": 71,
   "metadata": {
    "collapsed": true
   },
   "outputs": [],
   "source": [
    "plt.close()\n",
    "df_3 = pd.DataFrame({\"prop\" : partner_prop_value, \"years\" : years})\n",
    "df_3.index = df_3.years\n",
    "plt.plot(df_3[\"prop\"], linestyle=':', linewidth = 3)\n",
    "plt.title(\"Porcentaje de IED total recibida \\n por los principales 5 países receptores\", loc='left', fontsize=12, fontweight=0, color='orange')\n",
    "plt.xlabel(\"Año\")\n",
    "plt.ylabel(\"Porcentaje\")\n",
    "#plt.show()\n",
    "path = \"C:\\\\Users\\\\vsilecor.NET01\\\\Downloads\\\\grafos-20180118T165154Z-001\\\\grafos\\\\resultados\\\\graficos\\\\analisis_descriptivo\\\\ied_receptores_total_por_ano.png\"\n",
    "plt.savefig(path)\n",
    "plt.close()"
   ]
  },
  {
   "cell_type": "code",
   "execution_count": 17,
   "metadata": {},
   "outputs": [
    {
     "data": {
      "text/plain": [
       "Index(['United States', 'Luxembourg', 'United Kingdom', 'Netherlands',\n",
       "       'Belgium'],\n",
       "      dtype='object', name='Partner country')"
      ]
     },
     "execution_count": 17,
     "metadata": {},
     "output_type": "execute_result"
    }
   ],
   "source": [
    "partners_list"
   ]
  },
  {
   "cell_type": "markdown",
   "metadata": {},
   "source": [
    "Armo gráfico de IED de los 5 principales países emisores"
   ]
  },
  {
   "cell_type": "code",
   "execution_count": 18,
   "metadata": {
    "collapsed": true
   },
   "outputs": [],
   "source": [
    "us = []\n",
    "lux = []\n",
    "uk = []\n",
    "neth = []\n",
    "bel = []\n",
    "\n",
    "for i in df_list:\n",
    "    tota_value_i = i[\"Value\"].sum()\n",
    "    us_i = (i.loc[i[\"Partner country\"]==\"United States\"].groupby(\"Partner country\").sum()[\"Value\"]/tota_value_i*100).get(0)\n",
    "    lux_i = (i.loc[i[\"Partner country\"]==\"Luxembourg\"].groupby(\"Partner country\").sum()[\"Value\"]/tota_value_i*100).get(0)\n",
    "    uk_i = (i.loc[i[\"Partner country\"]==\"United Kingdom\"].groupby(\"Partner country\").sum()[\"Value\"]/tota_value_i*100).get(0)\n",
    "    neth_i = (i.loc[i[\"Partner country\"]==\"Netherlands\"].groupby(\"Partner country\").sum()[\"Value\"]/tota_value_i*100).get(0)\n",
    "    bel_i = (i.loc[i[\"Partner country\"]==\"Belgium\"].groupby(\"Partner country\").sum()[\"Value\"]/tota_value_i*100).get(0)\n",
    "    \n",
    "    us.append(us_i)\n",
    "    lux.append(lux_i)\n",
    "    uk.append(uk_i)\n",
    "    neth.append(neth_i)\n",
    "    bel.append(bel_i)\n",
    "    \n",
    "partners_df = pd.DataFrame({\"years\" : years, \"US\" : us, \"Luxembourg\" : lux , \"UK\" :uk, \"Netherlands\" :neth, \"Belgium\":bel})\n",
    "    "
   ]
  },
  {
   "cell_type": "code",
   "execution_count": 19,
   "metadata": {
    "collapsed": true
   },
   "outputs": [],
   "source": [
    "partners_df.index = partners_df.years"
   ]
  },
  {
   "cell_type": "code",
   "execution_count": 34,
   "metadata": {
    "collapsed": true
   },
   "outputs": [],
   "source": [
    "plt.close()\n",
    "plt.plot(partners_df[\"years\"],partners_df[\"US\"], linewidth = 3)\n",
    "plt.plot(partners_df[\"years\"],partners_df[\"Luxembourg\"], linewidth = 3)\n",
    "plt.plot(partners_df[\"years\"],partners_df[\"UK\"], linewidth = 3)\n",
    "plt.plot(partners_df[\"years\"],partners_df[\"Netherlands\"], linewidth = 3)\n",
    "plt.plot(partners_df[\"years\"],partners_df[\"Belgium\"], linewidth = 3)\n",
    "plt.title(\"Porcentaje de IED recibida \\n por los principales 5 países receptores\", loc='left', fontsize=12, fontweight=0, color='orange')\n",
    "plt.xlabel(\"Año\")\n",
    "plt.ylabel(\"Porcentaje\")\n",
    "sns.set_palette(\"Set2\")\n",
    "plt.legend(loc = 3)\n",
    "path = \"C:\\\\Users\\\\vsilecor.NET01\\\\Downloads\\\\grafos-20180118T165154Z-001\\\\grafos\\\\resultados\\\\graficos\\\\analisis_descriptivo\\\\ied_receptores_por_ano.png\"\n",
    "plt.savefig(path)\n",
    "plt.close()"
   ]
  },
  {
   "cell_type": "markdown",
   "metadata": {},
   "source": [
    "Armo gráfico de IED de los 5 principales países receptores"
   ]
  },
  {
   "cell_type": "code",
   "execution_count": 21,
   "metadata": {},
   "outputs": [
    {
     "data": {
      "text/plain": [
       "Index(['United States', 'Luxembourg', 'United Kingdom', 'Netherlands',\n",
       "       'Germany'],\n",
       "      dtype='object', name='Reporting country')"
      ]
     },
     "execution_count": 21,
     "metadata": {},
     "output_type": "execute_result"
    }
   ],
   "source": [
    "reporting_list"
   ]
  },
  {
   "cell_type": "code",
   "execution_count": 22,
   "metadata": {
    "collapsed": true
   },
   "outputs": [],
   "source": [
    "us = []\n",
    "lux = []\n",
    "uk = []\n",
    "neth = []\n",
    "fr = []\n",
    "\n",
    "for i in df_list:\n",
    "    tota_value_i = i[\"Value\"].sum()\n",
    "    us_i = (i.loc[i[\"Reporting country\"]==\"United States\"].groupby(\"Reporting country\").sum()[\"Value\"]/tota_value_i*100).get(0)\n",
    "    lux_i = (i.loc[i[\"Reporting country\"]==\"Luxembourg\"].groupby(\"Reporting country\").sum()[\"Value\"]/tota_value_i*100).get(0)\n",
    "    uk_i = (i.loc[i[\"Reporting country\"]==\"United Kingdom\"].groupby(\"Reporting country\").sum()[\"Value\"]/tota_value_i*100).get(0)\n",
    "    neth_i = (i.loc[i[\"Reporting country\"]==\"Netherlands\"].groupby(\"Reporting country\").sum()[\"Value\"]/tota_value_i*100).get(0)\n",
    "    fr_i = (i.loc[i[\"Reporting country\"]==\"France\"].groupby(\"Reporting country\").sum()[\"Value\"]/tota_value_i*100).get(0)\n",
    "    \n",
    "    us.append(us_i)\n",
    "    lux.append(lux_i)\n",
    "    uk.append(uk_i)\n",
    "    neth.append(neth_i)\n",
    "    fr.append(fr_i)\n",
    "    \n",
    "reporting_df = pd.DataFrame({\"years\" : years, \"US\" : us, \"Luxembourg\" : lux , \"UK\" :uk, \"Netherlands\" :neth, \"France\":fr})\n",
    "    "
   ]
  },
  {
   "cell_type": "code",
   "execution_count": 23,
   "metadata": {
    "collapsed": true
   },
   "outputs": [],
   "source": [
    "reporting_df.index = reporting_df.years"
   ]
  },
  {
   "cell_type": "code",
   "execution_count": 24,
   "metadata": {},
   "outputs": [
    {
     "data": {
      "text/html": [
       "<div>\n",
       "<style>\n",
       "    .dataframe thead tr:only-child th {\n",
       "        text-align: right;\n",
       "    }\n",
       "\n",
       "    .dataframe thead th {\n",
       "        text-align: left;\n",
       "    }\n",
       "\n",
       "    .dataframe tbody tr th {\n",
       "        vertical-align: top;\n",
       "    }\n",
       "</style>\n",
       "<table border=\"1\" class=\"dataframe\">\n",
       "  <thead>\n",
       "    <tr style=\"text-align: right;\">\n",
       "      <th></th>\n",
       "      <th>France</th>\n",
       "      <th>Luxembourg</th>\n",
       "      <th>Netherlands</th>\n",
       "      <th>UK</th>\n",
       "      <th>US</th>\n",
       "      <th>years</th>\n",
       "    </tr>\n",
       "    <tr>\n",
       "      <th>years</th>\n",
       "      <th></th>\n",
       "      <th></th>\n",
       "      <th></th>\n",
       "      <th></th>\n",
       "      <th></th>\n",
       "      <th></th>\n",
       "    </tr>\n",
       "  </thead>\n",
       "  <tbody>\n",
       "    <tr>\n",
       "      <th>2003</th>\n",
       "      <td>6.846493</td>\n",
       "      <td>12.260374</td>\n",
       "      <td>9.120532</td>\n",
       "      <td>8.736190</td>\n",
       "      <td>15.677901</td>\n",
       "      <td>2003</td>\n",
       "    </tr>\n",
       "    <tr>\n",
       "      <th>2004</th>\n",
       "      <td>5.786271</td>\n",
       "      <td>10.009146</td>\n",
       "      <td>5.951387</td>\n",
       "      <td>10.728545</td>\n",
       "      <td>17.556654</td>\n",
       "      <td>2004</td>\n",
       "    </tr>\n",
       "    <tr>\n",
       "      <th>2005</th>\n",
       "      <td>8.503641</td>\n",
       "      <td>8.994269</td>\n",
       "      <td>14.368680</td>\n",
       "      <td>8.955862</td>\n",
       "      <td>9.423484</td>\n",
       "      <td>2005</td>\n",
       "    </tr>\n",
       "    <tr>\n",
       "      <th>2006</th>\n",
       "      <td>7.970635</td>\n",
       "      <td>8.449397</td>\n",
       "      <td>11.475533</td>\n",
       "      <td>9.632416</td>\n",
       "      <td>12.785160</td>\n",
       "      <td>2006</td>\n",
       "    </tr>\n",
       "    <tr>\n",
       "      <th>2007</th>\n",
       "      <td>6.817430</td>\n",
       "      <td>9.631659</td>\n",
       "      <td>7.274542</td>\n",
       "      <td>12.364866</td>\n",
       "      <td>17.133330</td>\n",
       "      <td>2007</td>\n",
       "    </tr>\n",
       "    <tr>\n",
       "      <th>2008</th>\n",
       "      <td>7.004476</td>\n",
       "      <td>12.493149</td>\n",
       "      <td>8.771991</td>\n",
       "      <td>9.006725</td>\n",
       "      <td>11.370475</td>\n",
       "      <td>2008</td>\n",
       "    </tr>\n",
       "    <tr>\n",
       "      <th>2009</th>\n",
       "      <td>7.441649</td>\n",
       "      <td>13.056120</td>\n",
       "      <td>8.019632</td>\n",
       "      <td>6.277248</td>\n",
       "      <td>15.127978</td>\n",
       "      <td>2009</td>\n",
       "    </tr>\n",
       "    <tr>\n",
       "      <th>2010</th>\n",
       "      <td>5.193900</td>\n",
       "      <td>6.229921</td>\n",
       "      <td>9.862143</td>\n",
       "      <td>7.458521</td>\n",
       "      <td>16.571201</td>\n",
       "      <td>2010</td>\n",
       "    </tr>\n",
       "    <tr>\n",
       "      <th>2011</th>\n",
       "      <td>5.935610</td>\n",
       "      <td>9.558867</td>\n",
       "      <td>5.228842</td>\n",
       "      <td>9.225988</td>\n",
       "      <td>17.544872</td>\n",
       "      <td>2011</td>\n",
       "    </tr>\n",
       "    <tr>\n",
       "      <th>2012</th>\n",
       "      <td>3.854602</td>\n",
       "      <td>15.825648</td>\n",
       "      <td>8.019086</td>\n",
       "      <td>5.892915</td>\n",
       "      <td>16.532643</td>\n",
       "      <td>2012</td>\n",
       "    </tr>\n",
       "    <tr>\n",
       "      <th>2013</th>\n",
       "      <td>0.448726</td>\n",
       "      <td>7.597546</td>\n",
       "      <td>5.499666</td>\n",
       "      <td>1.979615</td>\n",
       "      <td>5.267975</td>\n",
       "      <td>2013</td>\n",
       "    </tr>\n",
       "  </tbody>\n",
       "</table>\n",
       "</div>"
      ],
      "text/plain": [
       "         France  Luxembourg  Netherlands         UK         US  years\n",
       "years                                                                \n",
       "2003   6.846493   12.260374     9.120532   8.736190  15.677901   2003\n",
       "2004   5.786271   10.009146     5.951387  10.728545  17.556654   2004\n",
       "2005   8.503641    8.994269    14.368680   8.955862   9.423484   2005\n",
       "2006   7.970635    8.449397    11.475533   9.632416  12.785160   2006\n",
       "2007   6.817430    9.631659     7.274542  12.364866  17.133330   2007\n",
       "2008   7.004476   12.493149     8.771991   9.006725  11.370475   2008\n",
       "2009   7.441649   13.056120     8.019632   6.277248  15.127978   2009\n",
       "2010   5.193900    6.229921     9.862143   7.458521  16.571201   2010\n",
       "2011   5.935610    9.558867     5.228842   9.225988  17.544872   2011\n",
       "2012   3.854602   15.825648     8.019086   5.892915  16.532643   2012\n",
       "2013   0.448726    7.597546     5.499666   1.979615   5.267975   2013"
      ]
     },
     "execution_count": 24,
     "metadata": {},
     "output_type": "execute_result"
    }
   ],
   "source": [
    "reporting_df"
   ]
  },
  {
   "cell_type": "code",
   "execution_count": 35,
   "metadata": {
    "collapsed": true
   },
   "outputs": [],
   "source": [
    "plt.plot(reporting_df[\"years\"],reporting_df[\"US\"], linewidth = 3)\n",
    "plt.plot(reporting_df[\"years\"],reporting_df[\"Luxembourg\"], linewidth = 3)\n",
    "plt.plot(reporting_df[\"years\"],reporting_df[\"UK\"], linewidth = 3)\n",
    "plt.plot(reporting_df[\"years\"],reporting_df[\"Netherlands\"], linewidth = 3)\n",
    "plt.plot(reporting_df[\"years\"],reporting_df[\"France\"], linewidth = 3)\n",
    "plt.title(\"Porcentaje de IED emitido \\n por los principales 5 países emisores\", loc='left', fontsize=12, fontweight=0, color='orange')\n",
    "plt.xlabel(\"Año\")\n",
    "plt.ylabel(\"Porcentaje\")\n",
    "sns.set_palette(\"Set2\")\n",
    "plt.legend(loc = 3)\n",
    "path = \"C:\\\\Users\\\\vsilecor.NET01\\\\Downloads\\\\grafos-20180118T165154Z-001\\\\grafos\\\\resultados\\\\graficos\\\\analisis_descriptivo\\\\ied_emisores_por_ano.png\"\n",
    "plt.savefig(path)\n",
    "plt.close()"
   ]
  },
  {
   "cell_type": "markdown",
   "metadata": {},
   "source": [
    "Me fijo los valores para la mediana y el tercer cuartil de \"Value\" para cada año, de los distintos a 0"
   ]
  },
  {
   "cell_type": "code",
   "execution_count": 26,
   "metadata": {},
   "outputs": [
    {
     "data": {
      "text/plain": [
       "26974.5"
      ]
     },
     "execution_count": 26,
     "metadata": {},
     "output_type": "execute_result"
    }
   ],
   "source": [
    "df_2003.loc[df_2003[\"Value\"]>0].quantile(0.5).get(0)"
   ]
  },
  {
   "cell_type": "code",
   "execution_count": 27,
   "metadata": {},
   "outputs": [
    {
     "data": {
      "text/plain": [
       "26974.5"
      ]
     },
     "execution_count": 27,
     "metadata": {},
     "output_type": "execute_result"
    }
   ],
   "source": [
    "df_2003.loc[df_2003[\"Value\"]>0].quantile(0.5).get(0)"
   ]
  },
  {
   "cell_type": "code",
   "execution_count": 112,
   "metadata": {
    "collapsed": true
   },
   "outputs": [],
   "source": [
    "median = []\n",
    "quartile3 = []\n",
    "\n",
    "for i in df_list:\n",
    "    median_i = i.loc[i[\"Value\"]>0].quantile(0.5)[\"Value\"]\n",
    "    quartile3_i = i.loc[i[\"Value\"]>0].quantile(0.75)[\"Value\"]\n",
    "    median.append(median_i)\n",
    "    quartile3.append(quartile3_i)\n",
    "    \n",
    "quantiles_df = pd.DataFrame({\"years\" : years, \"mediana\" : median, \"3er_cuartil\" : quartile3})"
   ]
  },
  {
   "cell_type": "code",
   "execution_count": 113,
   "metadata": {
    "collapsed": true
   },
   "outputs": [],
   "source": [
    "quantiles_df.index = quantiles_df.years"
   ]
  },
  {
   "cell_type": "code",
   "execution_count": 114,
   "metadata": {},
   "outputs": [
    {
     "data": {
      "text/plain": [
       "years\n",
       "2003    10.167\n",
       "2004    10.492\n",
       "2005    14.078\n",
       "2006    15.062\n",
       "2007    20.593\n",
       "2008    23.392\n",
       "2009    20.557\n",
       "2010    18.543\n",
       "2011    20.891\n",
       "2012    18.733\n",
       "2013    37.000\n",
       "Name: mediana, dtype: float64"
      ]
     },
     "execution_count": 114,
     "metadata": {},
     "output_type": "execute_result"
    }
   ],
   "source": [
    "quantiles_df[\"mediana\"]"
   ]
  },
  {
   "cell_type": "code",
   "execution_count": 115,
   "metadata": {
    "collapsed": true
   },
   "outputs": [],
   "source": [
    "plt.plot(quantiles_df[\"years\"],quantiles_df[\"mediana\"], linewidth = 3)\n",
    "plt.plot(quantiles_df[\"years\"],quantiles_df[\"3er_cuartil\"], linewidth = 3)\n",
    "\n",
    "plt.title(\"Valor del 3er cuartil y mediana, por año\", loc='left', fontsize=12, fontweight=0, color='orange')\n",
    "plt.xlabel(\"Año\")\n",
    "plt.ylabel(\"Millones de USD\")\n",
    "sns.set_palette(\"Set2\")\n",
    "plt.legend()\n",
    "path = \"C:\\\\Users\\\\vsilecor.NET01\\\\Downloads\\\\grafos-20180118T165154Z-001\\\\grafos\\\\resultados\\\\graficos\\\\analisis_descriptivo\\\\mediana_por_ano.png\"\n",
    "plt.savefig(path)\n",
    "plt.close()"
   ]
  },
  {
   "cell_type": "code",
   "execution_count": 46,
   "metadata": {
    "collapsed": true
   },
   "outputs": [],
   "source": [
    "us = []\n",
    "lux = []\n",
    "uk = []\n",
    "neth = []\n",
    "bel = []\n",
    "\n",
    "for i in df_list:\n",
    "    tota_value_i = i[\"Value\"].sum()\n",
    "    us_i = i.loc[i[\"Partner country\"]==\"United States\"].groupby(\"Partner country\").sum()[\"Value\"].get(0)\n",
    "    lux_i = i.loc[i[\"Partner country\"]==\"Luxembourg\"].groupby(\"Partner country\").sum()[\"Value\"].get(0)\n",
    "    uk_i = i.loc[i[\"Partner country\"]==\"United Kingdom\"].groupby(\"Partner country\").sum()[\"Value\"].get(0)\n",
    "    neth_i = i.loc[i[\"Partner country\"]==\"Netherlands\"].groupby(\"Partner country\").sum()[\"Value\"].get(0)\n",
    "    bel_i = i.loc[i[\"Partner country\"]==\"Belgium\"].groupby(\"Partner country\").sum()[\"Value\"].get(0)\n",
    "    \n",
    "    us.append(us_i)\n",
    "    lux.append(lux_i)\n",
    "    uk.append(uk_i)\n",
    "    neth.append(neth_i)\n",
    "    bel.append(bel_i)\n",
    "    \n",
    "partners_df = pd.DataFrame({\"years\" : years, \"US\" : us, \"Luxembourg\" : lux , \"UK\" :uk, \"Netherlands\" :neth, \"Belgium\":bel})\n",
    "    "
   ]
  },
  {
   "cell_type": "code",
   "execution_count": 47,
   "metadata": {
    "collapsed": true
   },
   "outputs": [],
   "source": [
    "partners_df.index = partners_df.years"
   ]
  },
  {
   "cell_type": "code",
   "execution_count": 48,
   "metadata": {
    "collapsed": true
   },
   "outputs": [],
   "source": [
    "plt.close()\n",
    "sns.set_palette(\"Set2\")\n",
    "plt.plot(partners_df[\"years\"],partners_df[\"US\"], linewidth = 3)\n",
    "plt.plot(partners_df[\"years\"],partners_df[\"Luxembourg\"], linewidth = 3)\n",
    "plt.plot(partners_df[\"years\"],partners_df[\"UK\"], linewidth = 3)\n",
    "plt.plot(partners_df[\"years\"],partners_df[\"Netherlands\"], linewidth = 3)\n",
    "plt.plot(partners_df[\"years\"],partners_df[\"Belgium\"], linewidth = 3)\n",
    "plt.title(\"IED recibida por los principales 5 países receptores\", loc='left', fontsize=12, fontweight=0, color='orange')\n",
    "plt.xlabel(\"Año\")\n",
    "plt.ylabel(\"Millones de USD\")\n",
    "plt.legend(loc = 3)\n",
    "#plt.show()\n",
    "path = \"C:\\\\Users\\\\vsilecor.NET01\\\\Downloads\\\\grafos-20180118T165154Z-001\\\\grafos\\\\resultados\\\\graficos\\\\analisis_descriptivo\\\\ied_receptores_monto_por_ano.png\"\n",
    "plt.savefig(path)\n",
    "plt.close()"
   ]
  },
  {
   "cell_type": "code",
   "execution_count": 49,
   "metadata": {
    "collapsed": true
   },
   "outputs": [],
   "source": [
    "us = []\n",
    "lux = []\n",
    "uk = []\n",
    "neth = []\n",
    "fr = []\n",
    "\n",
    "for i in df_list:\n",
    "    tota_value_i = i[\"Value\"].sum()\n",
    "    us_i = (i.loc[i[\"Reporting country\"]==\"United States\"].groupby(\"Reporting country\").sum()[\"Value\"]/tota_value_i*100).get(0)\n",
    "    lux_i = (i.loc[i[\"Reporting country\"]==\"Luxembourg\"].groupby(\"Reporting country\").sum()[\"Value\"]/tota_value_i*100).get(0)\n",
    "    uk_i = (i.loc[i[\"Reporting country\"]==\"United Kingdom\"].groupby(\"Reporting country\").sum()[\"Value\"]/tota_value_i*100).get(0)\n",
    "    neth_i = (i.loc[i[\"Reporting country\"]==\"Netherlands\"].groupby(\"Reporting country\").sum()[\"Value\"]/tota_value_i*100).get(0)\n",
    "    fr_i = (i.loc[i[\"Reporting country\"]==\"France\"].groupby(\"Reporting country\").sum()[\"Value\"]/tota_value_i*100).get(0)\n",
    "    \n",
    "    us.append(us_i)\n",
    "    lux.append(lux_i)\n",
    "    uk.append(uk_i)\n",
    "    neth.append(neth_i)\n",
    "    fr.append(fr_i)\n",
    "    \n",
    "reporting_df = pd.DataFrame({\"years\" : years, \"US\" : us, \"Luxembourg\" : lux , \"UK\" :uk, \"Netherlands\" :neth, \"France\":fr})\n",
    "    "
   ]
  },
  {
   "cell_type": "code",
   "execution_count": 50,
   "metadata": {
    "collapsed": true
   },
   "outputs": [],
   "source": [
    "reporting_df.index = reporting_df.years"
   ]
  },
  {
   "cell_type": "code",
   "execution_count": 51,
   "metadata": {
    "collapsed": true
   },
   "outputs": [],
   "source": [
    "plt.close()\n",
    "sns.set_palette(\"Set2\")\n",
    "plt.plot(reporting_df[\"years\"],reporting_df[\"US\"], linewidth = 3)\n",
    "plt.plot(reporting_df[\"years\"],reporting_df[\"Luxembourg\"], linewidth = 3)\n",
    "plt.plot(reporting_df[\"years\"],reporting_df[\"UK\"], linewidth = 3)\n",
    "plt.plot(reporting_df[\"years\"],reporting_df[\"Netherlands\"], linewidth = 3)\n",
    "plt.plot(reporting_df[\"years\"],reporting_df[\"France\"], linewidth = 3)\n",
    "plt.title(\"IED emitido por los principales 5 países emisores\", loc='left', fontsize=12, fontweight=0, color='orange')\n",
    "plt.xlabel(\"Año\")\n",
    "plt.ylabel(\"Millones de USD\")\n",
    "plt.legend(loc = 3)\n",
    "#plt.show()\n",
    "path = \"C:\\\\Users\\\\vsilecor.NET01\\\\Downloads\\\\grafos-20180118T165154Z-001\\\\grafos\\\\resultados\\\\graficos\\\\analisis_descriptivo\\\\ied_emisores_monto_por_ano.png\"\n",
    "plt.savefig(path)\n",
    "plt.close()"
   ]
  },
  {
   "cell_type": "code",
   "execution_count": 94,
   "metadata": {
    "collapsed": true
   },
   "outputs": [],
   "source": []
  },
  {
   "cell_type": "code",
   "execution_count": 110,
   "metadata": {},
   "outputs": [
    {
     "data": {
      "image/png": "[encoded data removed]",
      "text/plain": [
       "<matplotlib.figure.Figure at 0xdbb6d30>"
      ]
     },
     "metadata": {},
     "output_type": "display_data"
    }
   ],
   "source": [
    "plt.close()\n",
    "sns.set_palette(\"Set2\")\n",
    "a = df_2012.groupby(\"Reporting country\").sum()[\"Value\"]\n",
    "plt.hist(pd.Series(a[a<2000].values))\n",
    "plt.title(\"Histograma de IED emitido por pais\", loc='left', fontsize=12, fontweight=0, color='orange')\n",
    "\n",
    "#path = \"C:\\\\Users\\\\vsilecor.NET01\\\\Downloads\\\\grafos-20180118T165154Z-001\\\\grafos\\\\resultados\\\\graficos\\\\analisis_descriptivo\\\\hist_1.png\"\n",
    "#plt.savefig(path)\n",
    "#plt.close()\n",
    "plt.show()"
   ]
  }
 ],
 "metadata": {
  "kernelspec": {
   "display_name": "Python 3",
   "language": "python",
   "name": "python3"
  },
  "language_info": {
   "codemirror_mode": {
    "name": "ipython",
    "version": 3
   },
   "file_extension": ".py",
   "mimetype": "text/x-python",
   "name": "python",
   "nbconvert_exporter": "python",
   "pygments_lexer": "ipython3",
   "version": "3.6.2"
  }
 },
 "nbformat": 4,
 "nbformat_minor": 2
}
