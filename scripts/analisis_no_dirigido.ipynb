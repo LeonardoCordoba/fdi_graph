{
 "cells": [
  {
   "cell_type": "code",
   "execution_count": 76,
   "metadata": {
    "collapsed": true
   },
   "outputs": [],
   "source": [
    "import pandas as pd\n",
    "import networkx as nx\n",
    "import numpy as np\n",
    "import matplotlib.pyplot as plt\n",
    "import seaborn as sns"
   ]
  },
  {
   "cell_type": "code",
   "execution_count": 24,
   "metadata": {
    "collapsed": true
   },
   "outputs": [],
   "source": [
    "df_2003 = pd.read_csv(\"fdi_paises_no_dirig_2003_w.csv\", encoding=\"latin-1\")\n",
    "df_2007 = pd.read_csv(\"fdi_paises_no_dirig_2007_w.csv\", encoding=\"latin-1\")\n",
    "df_2012 = pd.read_csv(\"fdi_paises_no_dirig_2012_w.csv\", encoding=\"latin-1\")"
   ]
  },
  {
   "cell_type": "code",
   "execution_count": 25,
   "metadata": {},
   "outputs": [
    {
     "data": {
      "text/plain": [
       "0.46578670365954972"
      ]
     },
     "execution_count": 25,
     "metadata": {},
     "output_type": "execute_result"
    }
   ],
   "source": [
    "df_2003.loc[df_2003[\"Value\"]>1, \"relacion\"] = 1\n",
    "df_2003_nw = df_2003[df_2003[\"relacion\"]==1]\n",
    "g_2003=nx.from_pandas_edgelist(df_2003_nw, source=\"Partner country\", target=\"Reporting country\", edge_attr= [\"Year\", \"Value\"])\n",
    "np.mean(list(nx.closeness_centrality(g_2003).values()))"
   ]
  },
  {
   "cell_type": "code",
   "execution_count": 26,
   "metadata": {
    "collapsed": true
   },
   "outputs": [],
   "source": [
    "rango = [i for i in range(0, 120,3)]\n",
    "\n",
    "clust_2003 = []\n",
    "clust_2007 = []\n",
    "clust_2012 = []\n",
    "\n",
    "degree_centrality_2003 = []\n",
    "degree_centrality_2007 = []\n",
    "degree_centrality_2012 = []\n",
    "\n",
    "betweenness_centrality_2003 = []\n",
    "betweenness_centrality_2007 = []\n",
    "betweenness_centrality_2012 = []\n",
    "\n",
    "closeness_centrality_2003 = []\n",
    "closeness_centrality_2007 = []\n",
    "closeness_centrality_2012 = []\n"
   ]
  },
  {
   "cell_type": "code",
   "execution_count": 27,
   "metadata": {
    "collapsed": true
   },
   "outputs": [],
   "source": [
    "for i in rango:\n",
    "\n",
    "    df_2003_nw = df_2003.loc[df_2003[\"Value\"]>i]\n",
    "    df_2007_nw = df_2007.loc[df_2007[\"Value\"]>i]\n",
    "    df_2012_nw = df_2012.loc[df_2012[\"Value\"]>i]\n",
    "    \n",
    "    # Armo los grafos\n",
    "\n",
    "    g_2003=nx.from_pandas_edgelist(df_2003_nw, source=\"Partner country\", target=\"Reporting country\", edge_attr= [\"Year\", \"Value\"])\n",
    "    g_2007=nx.from_pandas_edgelist(df_2007_nw, source=\"Partner country\", target=\"Reporting country\", edge_attr= [\"Year\", \"Value\"])\n",
    "    g_2012=nx.from_pandas_edgelist(df_2012_nw, source=\"Partner country\", target=\"Reporting country\", edge_attr= [\"Year\", \"Value\"])\n",
    "    \n",
    "    \n",
    "    # Computo coef de clustering, grado medio, betweenness y centralidad de cercania \n",
    "    clust_2003_i = nx.average_clustering(g_2003)\n",
    "    clust_2007_i = nx.average_clustering(g_2007)\n",
    "    clust_2012_i = nx.average_clustering(g_2012)\n",
    "    \n",
    "    degree_centrality_2003_i = np.mean(list(nx.degree_centrality(g_2003).values())) \n",
    "    degree_centrality_2007_i = np.mean(list(nx.degree_centrality(g_2007).values())) \n",
    "    degree_centrality_2012_i = np.mean(list(nx.degree_centrality(g_2012).values())) \n",
    "    \n",
    "    betweenness_centrality_2003_i = np.max(list(nx.betweenness_centrality(g_2003).values()))\n",
    "    betweenness_centrality_2007_i = np.max(list(nx.betweenness_centrality(g_2007).values()))\n",
    "    betweenness_centrality_2012_i = np.max(list(nx.betweenness_centrality(g_2012).values()))\n",
    "    \n",
    "    closeness_centrality_2003_i = np.mean(list(nx.closeness_centrality(g_2003).values()))\n",
    "    closeness_centrality_2007_i = np.mean(list(nx.closeness_centrality(g_2007).values()))\n",
    "    closeness_centrality_2012_i = np.mean(list(nx.closeness_centrality(g_2012).values()))\n",
    "    \n",
    "    clust_2003.append(clust_2003_i)\n",
    "    clust_2007.append(clust_2007_i)\n",
    "    clust_2012.append(clust_2012_i)\n",
    "    \n",
    "    degree_centrality_2003.append(degree_centrality_2003_i)\n",
    "    degree_centrality_2007.append(degree_centrality_2007_i)\n",
    "    degree_centrality_2012.append(degree_centrality_2012_i)\n",
    "\n",
    "    betweenness_centrality_2003.append(betweenness_centrality_2003_i)\n",
    "    betweenness_centrality_2007.append(betweenness_centrality_2007_i)\n",
    "    betweenness_centrality_2012.append(betweenness_centrality_2012_i)\n",
    "\n",
    "    closeness_centrality_2003.append(closeness_centrality_2003_i)\n",
    "    closeness_centrality_2007.append(closeness_centrality_2007_i)\n",
    "    closeness_centrality_2012.append(closeness_centrality_2012_i)    \n",
    "    "
   ]
  },
  {
   "cell_type": "code",
   "execution_count": 122,
   "metadata": {},
   "outputs": [
    {
     "data": {
      "text/html": [
       "<div>\n",
       "<style>\n",
       "    .dataframe thead tr:only-child th {\n",
       "        text-align: right;\n",
       "    }\n",
       "\n",
       "    .dataframe thead th {\n",
       "        text-align: left;\n",
       "    }\n",
       "\n",
       "    .dataframe tbody tr th {\n",
       "        vertical-align: top;\n",
       "    }\n",
       "</style>\n",
       "<table border=\"1\" class=\"dataframe\">\n",
       "  <thead>\n",
       "    <tr style=\"text-align: right;\">\n",
       "      <th></th>\n",
       "      <th>betweenness_2003</th>\n",
       "      <th>betweenness_2007</th>\n",
       "      <th>betweenness_2012</th>\n",
       "      <th>closeness_2003</th>\n",
       "      <th>closeness_2007</th>\n",
       "      <th>closeness_2012</th>\n",
       "      <th>coef_clust_2003</th>\n",
       "      <th>coef_clust_2007</th>\n",
       "      <th>coef_clust_2012</th>\n",
       "      <th>degree_2003</th>\n",
       "      <th>degree_2007</th>\n",
       "      <th>degree_2012</th>\n",
       "      <th>delta</th>\n",
       "    </tr>\n",
       "  </thead>\n",
       "  <tbody>\n",
       "    <tr>\n",
       "      <th>0</th>\n",
       "      <td>0.236337</td>\n",
       "      <td>0.132871</td>\n",
       "      <td>0.236462</td>\n",
       "      <td>0.475378</td>\n",
       "      <td>0.488968</td>\n",
       "      <td>0.494615</td>\n",
       "      <td>0.726616</td>\n",
       "      <td>0.715972</td>\n",
       "      <td>0.644984</td>\n",
       "      <td>0.065783</td>\n",
       "      <td>0.087973</td>\n",
       "      <td>0.077041</td>\n",
       "      <td>0</td>\n",
       "    </tr>\n",
       "    <tr>\n",
       "      <th>1</th>\n",
       "      <td>0.268622</td>\n",
       "      <td>0.144246</td>\n",
       "      <td>0.146382</td>\n",
       "      <td>0.459857</td>\n",
       "      <td>0.476222</td>\n",
       "      <td>0.465302</td>\n",
       "      <td>0.601600</td>\n",
       "      <td>0.684073</td>\n",
       "      <td>0.592500</td>\n",
       "      <td>0.061453</td>\n",
       "      <td>0.082667</td>\n",
       "      <td>0.074742</td>\n",
       "      <td>3</td>\n",
       "    </tr>\n",
       "    <tr>\n",
       "      <th>2</th>\n",
       "      <td>0.220118</td>\n",
       "      <td>0.145099</td>\n",
       "      <td>0.143967</td>\n",
       "      <td>0.461737</td>\n",
       "      <td>0.476620</td>\n",
       "      <td>0.458567</td>\n",
       "      <td>0.596596</td>\n",
       "      <td>0.692713</td>\n",
       "      <td>0.574954</td>\n",
       "      <td>0.066789</td>\n",
       "      <td>0.084792</td>\n",
       "      <td>0.073652</td>\n",
       "      <td>6</td>\n",
       "    </tr>\n",
       "    <tr>\n",
       "      <th>3</th>\n",
       "      <td>0.221345</td>\n",
       "      <td>0.144129</td>\n",
       "      <td>0.149650</td>\n",
       "      <td>0.461102</td>\n",
       "      <td>0.475393</td>\n",
       "      <td>0.453140</td>\n",
       "      <td>0.586232</td>\n",
       "      <td>0.691924</td>\n",
       "      <td>0.551838</td>\n",
       "      <td>0.065629</td>\n",
       "      <td>0.085189</td>\n",
       "      <td>0.073253</td>\n",
       "      <td>9</td>\n",
       "    </tr>\n",
       "    <tr>\n",
       "      <th>4</th>\n",
       "      <td>0.230051</td>\n",
       "      <td>0.138450</td>\n",
       "      <td>0.165192</td>\n",
       "      <td>0.466353</td>\n",
       "      <td>0.479903</td>\n",
       "      <td>0.453377</td>\n",
       "      <td>0.605974</td>\n",
       "      <td>0.688633</td>\n",
       "      <td>0.519585</td>\n",
       "      <td>0.068725</td>\n",
       "      <td>0.090033</td>\n",
       "      <td>0.074540</td>\n",
       "      <td>12</td>\n",
       "    </tr>\n",
       "  </tbody>\n",
       "</table>\n",
       "</div>"
      ],
      "text/plain": [
       "   betweenness_2003  betweenness_2007  betweenness_2012  closeness_2003  \\\n",
       "0          0.236337          0.132871          0.236462        0.475378   \n",
       "1          0.268622          0.144246          0.146382        0.459857   \n",
       "2          0.220118          0.145099          0.143967        0.461737   \n",
       "3          0.221345          0.144129          0.149650        0.461102   \n",
       "4          0.230051          0.138450          0.165192        0.466353   \n",
       "\n",
       "   closeness_2007  closeness_2012  coef_clust_2003  coef_clust_2007  \\\n",
       "0        0.488968        0.494615         0.726616         0.715972   \n",
       "1        0.476222        0.465302         0.601600         0.684073   \n",
       "2        0.476620        0.458567         0.596596         0.692713   \n",
       "3        0.475393        0.453140         0.586232         0.691924   \n",
       "4        0.479903        0.453377         0.605974         0.688633   \n",
       "\n",
       "   coef_clust_2012  degree_2003  degree_2007  degree_2012  delta  \n",
       "0         0.644984     0.065783     0.087973     0.077041      0  \n",
       "1         0.592500     0.061453     0.082667     0.074742      3  \n",
       "2         0.574954     0.066789     0.084792     0.073652      6  \n",
       "3         0.551838     0.065629     0.085189     0.073253      9  \n",
       "4         0.519585     0.068725     0.090033     0.074540     12  "
      ]
     },
     "execution_count": 122,
     "metadata": {},
     "output_type": "execute_result"
    }
   ],
   "source": [
    "resultados = pd.DataFrame({\"delta\" : rango, \"coef_clust_2003\" : clust_2003, \"coef_clust_2007\" : clust_2007, \"coef_clust_2012\" :clust_2012, \"degree_2003\" : degree_centrality_2003, \"degree_2007\" : degree_centrality_2007, \"degree_2012\" : degree_centrality_2012, \"betweenness_2003\" : betweenness_centrality_2003, \"betweenness_2007\" :betweenness_centrality_2007, \"betweenness_2012\" : betweenness_centrality_2012, \"closeness_2003\" : closeness_centrality_2003, \"closeness_2007\" :closeness_centrality_2007, \"closeness_2012\" :closeness_centrality_2012})\n",
    "resultados.head()"
   ]
  },
  {
   "cell_type": "code",
   "execution_count": 147,
   "metadata": {
    "collapsed": true
   },
   "outputs": [],
   "source": [
    "resultados_long = pd.melt(resultados,\n",
    "                       [\"delta\"],\n",
    "                       var_name=\"metrica\",\n",
    "                       value_name=\"valor\")"
   ]
  },
  {
   "cell_type": "code",
   "execution_count": 145,
   "metadata": {},
   "outputs": [
    {
     "data": {
      "image/png": "[encoded data removed]",
      "text/plain": [
       "<matplotlib.figure.Figure at 0xbde0550>"
      ]
     },
     "metadata": {},
     "output_type": "display_data"
    }
   ],
   "source": [
    "%matplotlib inline\n",
    "plt.plot(resultados)\n",
    "plt.show()\n"
   ]
  },
  {
   "cell_type": "code",
   "execution_count": 149,
   "metadata": {},
   "outputs": [
    {
     "data": {
      "image/png": "[encoded data removed]",
      "text/plain": [
       "<matplotlib.figure.Figure at 0xeca7320>"
      ]
     },
     "metadata": {},
     "output_type": "display_data"
    }
   ],
   "source": [
    "sns.set()\n",
    "plt.scatter(y = resultados_long.loc[resultados_long[\"metrica\"]==\"betweenness_2007\",\"valor\"], x = resultados_long.loc[resultados_long[\"metrica\"]==\"betweenness_2007\",\"delta\"])\n",
    "# plt.plot(y = resultados_long.loc[resultados_long[\"metrica\"]==\"betweenness_2012\",\"valor\"], x = resultados_long.loc[resultados_long[\"metrica\"]==\"betweenness_2012\",\"delta\"])\n",
    "plt.show()"
   ]
  },
  {
   "cell_type": "code",
   "execution_count": 42,
   "metadata": {},
   "outputs": [
    {
     "data": {
      "image/png": "[encoded data removed]",
      "text/plain": [
       "<matplotlib.figure.Figure at 0xbfbebe0>"
      ]
     },
     "metadata": {},
     "output_type": "display_data"
    }
   ],
   "source": [
    "plot_1 = plt.scatter(y = clust_2012, x = rango)\n",
    "plt.show(plot_1)"
   ]
  },
  {
   "cell_type": "code",
   "execution_count": null,
   "metadata": {
    "collapsed": true
   },
   "outputs": [],
   "source": []
  }
 ],
 "metadata": {
  "kernelspec": {
   "display_name": "Python 3",
   "language": "python",
   "name": "python3"
  },
  "language_info": {
   "codemirror_mode": {
    "name": "ipython",
    "version": 3
   },
   "file_extension": ".py",
   "mimetype": "text/x-python",
   "name": "python",
   "nbconvert_exporter": "python",
   "pygments_lexer": "ipython3",
   "version": "3.6.3"
  }
 },
 "nbformat": 4,
 "nbformat_minor": 2
}
