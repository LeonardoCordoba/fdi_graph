{
 "cells": [
  {
   "cell_type": "code",
   "execution_count": 1,
   "metadata": {
    "collapsed": true
   },
   "outputs": [],
   "source": [
    "import pandas as pd\n",
    "import numpy as np\n",
    "import networkx as nx\n",
    "import matplotlib.pyplot as plt\n",
    "\n",
    "#import seaborn as sns"
   ]
  },
  {
   "cell_type": "code",
   "execution_count": 2,
   "metadata": {
    "collapsed": true
   },
   "outputs": [],
   "source": [
    "df_2003 = pd.read_csv(\"df_dirigido_2003.csv\", encoding=\"latin-1\")\n",
    "df_2004 = pd.read_csv(\"df_dirigido_2004.csv\", encoding=\"latin-1\")\n",
    "df_2005 = pd.read_csv(\"df_dirigido_2005.csv\", encoding=\"latin-1\")\n",
    "df_2006 = pd.read_csv(\"df_dirigido_2006.csv\", encoding=\"latin-1\")\n",
    "df_2007 = pd.read_csv(\"df_dirigido_2007.csv\", encoding=\"latin-1\")\n",
    "df_2008 = pd.read_csv(\"df_dirigido_2008.csv\", encoding=\"latin-1\")\n",
    "df_2009 = pd.read_csv(\"df_dirigido_2009.csv\", encoding=\"latin-1\")\n",
    "df_2010 = pd.read_csv(\"df_dirigido_2010.csv\", encoding=\"latin-1\")\n",
    "df_2011 = pd.read_csv(\"df_dirigido_2011.csv\", encoding=\"latin-1\")\n",
    "df_2012 = pd.read_csv(\"df_dirigido_2012.csv\", encoding=\"latin-1\")\n",
    "df_2013 = pd.read_csv(\"df_dirigido_2013.csv\", encoding=\"latin-1\")\n"
   ]
  },
  {
   "cell_type": "code",
   "execution_count": 3,
   "metadata": {},
   "outputs": [
    {
     "name": "stdout",
     "output_type": "stream",
     "text": [
      "      Unnamed: 0     Value\n",
      "0.10     7180.40    0.1470\n",
      "0.25    17134.25    1.1300\n",
      "0.50    26974.50   10.1670\n",
      "0.75    42645.25   97.0400\n",
      "0.90    52546.30  674.3047\n",
      "      Unnamed: 0     Value\n",
      "0.10      8866.8    0.1240\n",
      "0.25     17170.0    1.2420\n",
      "0.50     27016.0   10.4920\n",
      "0.75     43125.0  103.4265\n",
      "0.90     53592.4  742.9264\n",
      "      Unnamed: 0       Value\n",
      "0.10     8205.00     0.24900\n",
      "0.25    17076.75     1.69200\n",
      "0.50    25615.50    14.07800\n",
      "0.75    41979.50   134.29675\n",
      "0.90    52482.00  1062.66600\n",
      "      Unnamed: 0     Value\n",
      "0.10      7552.0     0.254\n",
      "0.25     17095.0     1.607\n",
      "0.50     26895.0    15.062\n",
      "0.75     42592.0   154.612\n",
      "0.90     52346.0  1065.646\n",
      "      Unnamed: 0     Value\n",
      "0.10      7061.0     0.279\n",
      "0.25     17096.5     2.001\n",
      "0.50     26378.0    20.593\n",
      "0.75     42430.0   210.815\n",
      "0.90     52429.0  1382.489\n",
      "      Unnamed: 0      Value\n",
      "0.10      6493.4     0.2416\n",
      "0.25     17076.0     1.9340\n",
      "0.50     26180.0    23.3920\n",
      "0.75     42205.0   224.1230\n",
      "0.90     51923.2  1403.2376\n",
      "      Unnamed: 0      Value\n",
      "0.10      7126.8     0.2234\n",
      "0.25     17160.0     1.7685\n",
      "0.50     27002.0    20.5570\n",
      "0.75     43314.5   188.7840\n",
      "0.90     52468.6  1143.3732\n",
      "      Unnamed: 0       Value\n",
      "0.10     7736.00     0.20000\n",
      "0.25    17095.25     1.57925\n",
      "0.50    26921.00    18.54300\n",
      "0.75    42531.75   183.66450\n",
      "0.90    52384.00  1173.17300\n",
      "      Unnamed: 0      Value\n",
      "0.10     7122.80     0.1670\n",
      "0.25    16953.75     1.8000\n",
      "0.50    26556.00    20.8910\n",
      "0.75    44539.25   207.8420\n",
      "0.90    52462.20  1334.1605\n",
      "      Unnamed: 0      Value\n",
      "0.10      7585.4     0.2142\n",
      "0.25     17086.0     1.6060\n",
      "0.50     27043.0    18.7330\n",
      "0.75     42500.0   197.1220\n",
      "0.90     52385.2  1436.3946\n",
      "      Unnamed: 0      Value\n",
      "0.10      3350.2     1.0200\n",
      "0.25     13340.0     5.2345\n",
      "0.50     25631.0    37.0000\n",
      "0.75     47067.5   241.5000\n",
      "0.90     52422.2  1237.9336\n"
     ]
    }
   ],
   "source": [
    "df_list = [df_2003, df_2004, df_2005, df_2006, df_2007, df_2008, df_2009, df_2010, df_2011, df_2012, df_2013]\n",
    "for i in df_list:\n",
    "    df_i = i.loc[i[\"Value\"]>0]\n",
    "    print(df_i.sort_values([\"Value\"], ascending=False).quantile([0.1,0.25,0.5,0.75,0.9]))"
   ]
  },
  {
   "cell_type": "markdown",
   "metadata": {},
   "source": [
    "Habiendo omitido los casos en donde el valor es 0 o menor, se analiza el rango comprendido entre la menor mediana y el mayor quantil 0.75.\n",
    "Esto es entre 10.5510 y 243.907"
   ]
  },
  {
   "cell_type": "code",
   "execution_count": 4,
   "metadata": {
    "scrolled": false
   },
   "outputs": [
    {
     "name": "stdout",
     "output_type": "stream",
     "text": [
      "[10, 16, 22, 28, 34, 40, 46, 52, 58, 64, 70, 76, 82, 88, 94, 100, 106, 112, 118, 124, 130, 136, 142, 148, 154, 160, 166, 172, 178, 184, 190, 196, 202, 208, 214, 220, 226, 232, 238]\n",
      "39\n"
     ]
    }
   ],
   "source": [
    "rango = [i for i in range(10, 244,6)]\n",
    "print(rango)\n",
    "print(len(rango))"
   ]
  },
  {
   "cell_type": "code",
   "execution_count": 10,
   "metadata": {
    "collapsed": true
   },
   "outputs": [],
   "source": [
    "cols = ['Reporting country', 'Partner country', 'Value']"
   ]
  },
  {
   "cell_type": "code",
   "execution_count": 11,
   "metadata": {
    "collapsed": true
   },
   "outputs": [],
   "source": [
    "def metrics_from_graph(df, rango):\n",
    "    df_i = df.loc[df[\"Value\"]>rango].copy()\n",
    "    graph = nx.from_pandas_dataframe(df_i[cols], source=\"Reporting country\", target=\"Partner country\",create_using=nx.DiGraph())\n",
    "    \n",
    "    # out_degre\n",
    "    out_degree = graph.out_degree()\n",
    "    min_out_degree = min(dict(out_degree).values())\n",
    "    max_out_degree = max(dict(out_degree).values())\n",
    "    mean_out_degree = np.mean(np.array(list(dict(out_degree).values())))\n",
    "    \n",
    "    # in_degree\n",
    "    in_degree = graph.in_degree()\n",
    "    min_in_degree = min(dict(in_degree).values())\n",
    "    max_in_degree = max(dict(in_degree).values())\n",
    "    mean_in_degree = np.mean(np.array(list(dict(in_degree).values())))\n",
    "    \n",
    "    # Betweenness\n",
    "    betweenness = np.max(list(nx.betweenness_centrality(graph).values()))\n",
    "    \n",
    "    # Closeness\n",
    "    closeness = np.mean(list(nx.closeness_centrality(graph).values()))\n",
    "    \n",
    "    # Diameter\n",
    "    #diameter = nx.diameter(graph)\n",
    "    \n",
    "    # Radius\n",
    "    #radius = nx.radius(graph)\n",
    "    \n",
    "    # Number of strongly connected components\n",
    "    strongly_connected = nx.number_strongly_connected_components(graph)\n",
    "    \n",
    "    # Number of strongly connected components\n",
    "    weakly_connected = nx.number_weakly_connected_components(graph)\n",
    "    \n",
    "    # Clustering\n",
    "    clustering = nx.average_clustering(graph.to_undirected())\n",
    "    \n",
    "    results = [rango, min_out_degree, max_out_degree, mean_out_degree, min_in_degree, max_in_degree, mean_in_degree, betweenness, closeness, strongly_connected, weakly_connected, clustering]\n",
    "    \n",
    "    return(results)"
   ]
  },
  {
   "cell_type": "code",
   "execution_count": 12,
   "metadata": {
    "collapsed": true
   },
   "outputs": [],
   "source": [
    "results = []\n",
    "for i in df_list:\n",
    "    for j in rango:\n",
    "        results.append(metrics_from_graph(i,j))"
   ]
  },
  {
   "cell_type": "code",
   "execution_count": 13,
   "metadata": {
    "collapsed": true
   },
   "outputs": [],
   "source": [
    "results_df = pd.DataFrame(results, columns = [\"rango\", \"min_out_degree\", \"max_out_degree\", \"mean_out_degree\", \"min_in_degree\", \"max_in_degree\", \"mean_in_degree\", \"betweenness\", \"closeness\",\"strongly_connected\", \"weakly_connected\",\"clustering\"])\n",
    "import itertools\n",
    "lst = range(2003, 2014,1)\n",
    "results_df[\"ano\"] = list(itertools.chain.from_iterable(itertools.repeat(x, 39) for x in lst))"
   ]
  },
  {
   "cell_type": "code",
   "execution_count": 14,
   "metadata": {},
   "outputs": [
    {
     "data": {
      "text/html": [
       "<div>\n",
       "<style>\n",
       "    .dataframe thead tr:only-child th {\n",
       "        text-align: right;\n",
       "    }\n",
       "\n",
       "    .dataframe thead th {\n",
       "        text-align: left;\n",
       "    }\n",
       "\n",
       "    .dataframe tbody tr th {\n",
       "        vertical-align: top;\n",
       "    }\n",
       "</style>\n",
       "<table border=\"1\" class=\"dataframe\">\n",
       "  <thead>\n",
       "    <tr style=\"text-align: right;\">\n",
       "      <th></th>\n",
       "      <th>rango</th>\n",
       "      <th>min_out_degree</th>\n",
       "      <th>max_out_degree</th>\n",
       "      <th>mean_out_degree</th>\n",
       "      <th>min_in_degree</th>\n",
       "      <th>max_in_degree</th>\n",
       "      <th>mean_in_degree</th>\n",
       "      <th>betweenness</th>\n",
       "      <th>closeness</th>\n",
       "      <th>strongly_connected</th>\n",
       "      <th>weakly_connected</th>\n",
       "      <th>clustering</th>\n",
       "      <th>ano</th>\n",
       "    </tr>\n",
       "  </thead>\n",
       "  <tbody>\n",
       "    <tr>\n",
       "      <th>0</th>\n",
       "      <td>10</td>\n",
       "      <td>0</td>\n",
       "      <td>88</td>\n",
       "      <td>8.612500</td>\n",
       "      <td>0</td>\n",
       "      <td>69</td>\n",
       "      <td>8.612500</td>\n",
       "      <td>0.170045</td>\n",
       "      <td>0.345548</td>\n",
       "      <td>44</td>\n",
       "      <td>1</td>\n",
       "      <td>0.703228</td>\n",
       "      <td>2003</td>\n",
       "    </tr>\n",
       "    <tr>\n",
       "      <th>1</th>\n",
       "      <td>16</td>\n",
       "      <td>0</td>\n",
       "      <td>84</td>\n",
       "      <td>8.426573</td>\n",
       "      <td>0</td>\n",
       "      <td>63</td>\n",
       "      <td>8.426573</td>\n",
       "      <td>0.191995</td>\n",
       "      <td>0.352701</td>\n",
       "      <td>38</td>\n",
       "      <td>1</td>\n",
       "      <td>0.700800</td>\n",
       "      <td>2003</td>\n",
       "    </tr>\n",
       "    <tr>\n",
       "      <th>2</th>\n",
       "      <td>22</td>\n",
       "      <td>0</td>\n",
       "      <td>80</td>\n",
       "      <td>8.066176</td>\n",
       "      <td>0</td>\n",
       "      <td>57</td>\n",
       "      <td>8.066176</td>\n",
       "      <td>0.183229</td>\n",
       "      <td>0.349034</td>\n",
       "      <td>37</td>\n",
       "      <td>1</td>\n",
       "      <td>0.727095</td>\n",
       "      <td>2003</td>\n",
       "    </tr>\n",
       "    <tr>\n",
       "      <th>3</th>\n",
       "      <td>28</td>\n",
       "      <td>0</td>\n",
       "      <td>78</td>\n",
       "      <td>7.631579</td>\n",
       "      <td>0</td>\n",
       "      <td>53</td>\n",
       "      <td>7.631579</td>\n",
       "      <td>0.177235</td>\n",
       "      <td>0.329350</td>\n",
       "      <td>41</td>\n",
       "      <td>1</td>\n",
       "      <td>0.686833</td>\n",
       "      <td>2003</td>\n",
       "    </tr>\n",
       "    <tr>\n",
       "      <th>4</th>\n",
       "      <td>34</td>\n",
       "      <td>0</td>\n",
       "      <td>74</td>\n",
       "      <td>7.395349</td>\n",
       "      <td>0</td>\n",
       "      <td>48</td>\n",
       "      <td>7.395349</td>\n",
       "      <td>0.175987</td>\n",
       "      <td>0.308828</td>\n",
       "      <td>47</td>\n",
       "      <td>1</td>\n",
       "      <td>0.677307</td>\n",
       "      <td>2003</td>\n",
       "    </tr>\n",
       "    <tr>\n",
       "      <th>5</th>\n",
       "      <td>40</td>\n",
       "      <td>0</td>\n",
       "      <td>74</td>\n",
       "      <td>7.204724</td>\n",
       "      <td>0</td>\n",
       "      <td>47</td>\n",
       "      <td>7.204724</td>\n",
       "      <td>0.180715</td>\n",
       "      <td>0.302277</td>\n",
       "      <td>48</td>\n",
       "      <td>1</td>\n",
       "      <td>0.678357</td>\n",
       "      <td>2003</td>\n",
       "    </tr>\n",
       "    <tr>\n",
       "      <th>6</th>\n",
       "      <td>46</td>\n",
       "      <td>0</td>\n",
       "      <td>70</td>\n",
       "      <td>7.120968</td>\n",
       "      <td>0</td>\n",
       "      <td>46</td>\n",
       "      <td>7.120968</td>\n",
       "      <td>0.175895</td>\n",
       "      <td>0.301476</td>\n",
       "      <td>48</td>\n",
       "      <td>1</td>\n",
       "      <td>0.682266</td>\n",
       "      <td>2003</td>\n",
       "    </tr>\n",
       "    <tr>\n",
       "      <th>7</th>\n",
       "      <td>52</td>\n",
       "      <td>0</td>\n",
       "      <td>69</td>\n",
       "      <td>6.967480</td>\n",
       "      <td>0</td>\n",
       "      <td>45</td>\n",
       "      <td>6.967480</td>\n",
       "      <td>0.183587</td>\n",
       "      <td>0.301557</td>\n",
       "      <td>47</td>\n",
       "      <td>1</td>\n",
       "      <td>0.689113</td>\n",
       "      <td>2003</td>\n",
       "    </tr>\n",
       "    <tr>\n",
       "      <th>8</th>\n",
       "      <td>58</td>\n",
       "      <td>0</td>\n",
       "      <td>67</td>\n",
       "      <td>6.933333</td>\n",
       "      <td>0</td>\n",
       "      <td>45</td>\n",
       "      <td>6.933333</td>\n",
       "      <td>0.185618</td>\n",
       "      <td>0.307106</td>\n",
       "      <td>44</td>\n",
       "      <td>1</td>\n",
       "      <td>0.709197</td>\n",
       "      <td>2003</td>\n",
       "    </tr>\n",
       "    <tr>\n",
       "      <th>9</th>\n",
       "      <td>64</td>\n",
       "      <td>0</td>\n",
       "      <td>66</td>\n",
       "      <td>6.897436</td>\n",
       "      <td>0</td>\n",
       "      <td>45</td>\n",
       "      <td>6.897436</td>\n",
       "      <td>0.192164</td>\n",
       "      <td>0.311255</td>\n",
       "      <td>42</td>\n",
       "      <td>1</td>\n",
       "      <td>0.711689</td>\n",
       "      <td>2003</td>\n",
       "    </tr>\n",
       "  </tbody>\n",
       "</table>\n",
       "</div>"
      ],
      "text/plain": [
       "   rango  min_out_degree  max_out_degree  mean_out_degree  min_in_degree  \\\n",
       "0     10               0              88         8.612500              0   \n",
       "1     16               0              84         8.426573              0   \n",
       "2     22               0              80         8.066176              0   \n",
       "3     28               0              78         7.631579              0   \n",
       "4     34               0              74         7.395349              0   \n",
       "5     40               0              74         7.204724              0   \n",
       "6     46               0              70         7.120968              0   \n",
       "7     52               0              69         6.967480              0   \n",
       "8     58               0              67         6.933333              0   \n",
       "9     64               0              66         6.897436              0   \n",
       "\n",
       "   max_in_degree  mean_in_degree  betweenness  closeness  strongly_connected  \\\n",
       "0             69        8.612500     0.170045   0.345548                  44   \n",
       "1             63        8.426573     0.191995   0.352701                  38   \n",
       "2             57        8.066176     0.183229   0.349034                  37   \n",
       "3             53        7.631579     0.177235   0.329350                  41   \n",
       "4             48        7.395349     0.175987   0.308828                  47   \n",
       "5             47        7.204724     0.180715   0.302277                  48   \n",
       "6             46        7.120968     0.175895   0.301476                  48   \n",
       "7             45        6.967480     0.183587   0.301557                  47   \n",
       "8             45        6.933333     0.185618   0.307106                  44   \n",
       "9             45        6.897436     0.192164   0.311255                  42   \n",
       "\n",
       "   weakly_connected  clustering   ano  \n",
       "0                 1    0.703228  2003  \n",
       "1                 1    0.700800  2003  \n",
       "2                 1    0.727095  2003  \n",
       "3                 1    0.686833  2003  \n",
       "4                 1    0.677307  2003  \n",
       "5                 1    0.678357  2003  \n",
       "6                 1    0.682266  2003  \n",
       "7                 1    0.689113  2003  \n",
       "8                 1    0.709197  2003  \n",
       "9                 1    0.711689  2003  "
      ]
     },
     "execution_count": 14,
     "metadata": {},
     "output_type": "execute_result"
    }
   ],
   "source": [
    "results_df.head(10)"
   ]
  },
  {
   "cell_type": "code",
   "execution_count": 15,
   "metadata": {
    "collapsed": true
   },
   "outputs": [],
   "source": [
    "results_df.to_csv(\"C:\\\\Users\\\\vsilecor.NET01\\\\Downloads\\\\grafos-20180118T165154Z-001\\\\grafos\\\\fuentes\\\\df_dirigido_results.csv\", encoding=\"latin-1\")"
   ]
  },
  {
   "cell_type": "code",
   "execution_count": 16,
   "metadata": {
    "collapsed": true
   },
   "outputs": [],
   "source": [
    "import seaborn as sns\n",
    "%matplotlib inline\n",
    "results_df = results_df.sort_values([\"rango\"], ascending = True)\n",
    "sns.set_style(\"ticks\")"
   ]
  },
  {
   "cell_type": "code",
   "execution_count": 24,
   "metadata": {
    "collapsed": true
   },
   "outputs": [],
   "source": [
    "# función que grafica para todos los años\n",
    "def line_plot_complete(metric, plot_name):\n",
    "    # grafico closeness para todos los años\n",
    "    sns.set_style(\"ticks\")\n",
    "    sns.set_palette(\"coolwarm\", n_colors=13)\n",
    "    plt.plot(results_df.loc[results_df[\"ano\"] == 2003, \"rango\"],results_df.loc[results_df[\"ano\"] == 2003, metric],linewidth = 2)\n",
    "    plt.plot(results_df.loc[results_df[\"ano\"] == 2004, \"rango\"],results_df.loc[results_df[\"ano\"] == 2004, metric],linewidth = 2)\n",
    "    plt.plot(results_df.loc[results_df[\"ano\"] == 2005, \"rango\"],results_df.loc[results_df[\"ano\"] == 2005, metric],linewidth = 2)\n",
    "    plt.plot(results_df.loc[results_df[\"ano\"] == 2006, \"rango\"],results_df.loc[results_df[\"ano\"] == 2006, metric],linewidth = 2)\n",
    "    plt.plot(results_df.loc[results_df[\"ano\"] == 2007, \"rango\"],results_df.loc[results_df[\"ano\"] == 2007, metric],linewidth = 2)\n",
    "    plt.plot(results_df.loc[results_df[\"ano\"] == 2008, \"rango\"],results_df.loc[results_df[\"ano\"] == 2008, metric],linewidth = 2)\n",
    "    plt.plot(results_df.loc[results_df[\"ano\"] == 2009, \"rango\"],results_df.loc[results_df[\"ano\"] == 2009, metric],linewidth = 2)\n",
    "    plt.plot(results_df.loc[results_df[\"ano\"] == 2010, \"rango\"],results_df.loc[results_df[\"ano\"] == 2010, metric], linewidth = 2)\n",
    "    plt.plot(results_df.loc[results_df[\"ano\"] == 2011, \"rango\"],results_df.loc[results_df[\"ano\"] == 2011, metric], linewidth = 2)\n",
    "    plt.plot(results_df.loc[results_df[\"ano\"] == 2012, \"rango\"],results_df.loc[results_df[\"ano\"] == 2012, metric], linewidth = 2)\n",
    "    plt.plot(results_df.loc[results_df[\"ano\"] == 2013, \"rango\"],results_df.loc[results_df[\"ano\"] == 2013, metric], linewidth = 2)\n",
    "    plt.ylabel(metric)\n",
    "    plt.xlabel(\"Rango IED\")\n",
    "    plt.title(plot_name, loc='left', fontsize=12, fontweight=0, color='orange')\n",
    "    plt.legend([i for i in range(2003,2014,1)],loc = 3)\n",
    "    plt.plot()\n",
    "    path = \"C:\\\\Users\\\\vsilecor.NET01\\\\Downloads\\\\grafos-20180118T165154Z-001\\\\grafos\\\\resultados\\\\graficos\\\\analisis_grafo\\\\\" + metric + \"_por_ano_y_rango\" + \".png\"\n",
    "    plt.savefig(path)\n",
    "    plt.close()"
   ]
  },
  {
   "cell_type": "code",
   "execution_count": 25,
   "metadata": {
    "collapsed": true
   },
   "outputs": [],
   "source": [
    "for i in results_df.columns:\n",
    "    if i not in [\"rango\", \"ano\"]:\n",
    "        title = i.title() + \" por año\"\n",
    "        line_plot_complete(i, title)"
   ]
  },
  {
   "cell_type": "code",
   "execution_count": 26,
   "metadata": {
    "collapsed": true
   },
   "outputs": [],
   "source": [
    "# Función que sólo grafica para años seleccionados\n",
    "# función que grafica para todos los años\n",
    "def line_plot_seleccionados(metric, plot_name):\n",
    "    # grafico closeness para todos los años\n",
    "    sns.set_style(\"ticks\")\n",
    "    sns.set_palette(\"coolwarm\", n_colors=3)\n",
    "    plt.plot(results_df.loc[results_df[\"ano\"] == 2003, \"rango\"],results_df.loc[results_df[\"ano\"] == 2003, metric],linewidth = 2)\n",
    "    plt.plot(results_df.loc[results_df[\"ano\"] == 2006, \"rango\"],results_df.loc[results_df[\"ano\"] == 2006, metric],linewidth = 2)\n",
    "    plt.plot(results_df.loc[results_df[\"ano\"] == 2012, \"rango\"],results_df.loc[results_df[\"ano\"] == 2012, metric], linewidth = 2)\n",
    "    plt.ylabel(metric)\n",
    "    plt.xlabel(\"Rango IED\")\n",
    "    plt.title(plot_name, loc='left', fontsize=12, fontweight=0, color='orange')\n",
    "    plt.legend([2003,2006,2012], loc = 3)\n",
    "    plt.plot()\n",
    "    path = \"C:\\\\Users\\\\vsilecor.NET01\\\\Downloads\\\\grafos-20180118T165154Z-001\\\\grafos\\\\resultados\\\\graficos\\\\analisis_grafo\\\\\" + metric + \"_por_ano_seleccionado_y_rango\" + \".png\"\n",
    "    plt.savefig(path)\n",
    "    plt.close()"
   ]
  },
  {
   "cell_type": "code",
   "execution_count": 27,
   "metadata": {
    "collapsed": true
   },
   "outputs": [],
   "source": [
    "for i in results_df.columns:\n",
    "    if i not in [\"rango\", \"ano\"]:\n",
    "        title = i.title() + \" para años 2003, 2006 y 2012\"\n",
    "        line_plot_seleccionados(i, title)"
   ]
  },
  {
   "cell_type": "code",
   "execution_count": 28,
   "metadata": {
    "collapsed": true
   },
   "outputs": [],
   "source": [
    "# Esta función se queda con la mediana de cada año y genera un gráfico\n",
    "def line_plot_median(metric, plot_name):\n",
    "    sns.set_style(\"ticks\")\n",
    "    plt.plot(results_df.groupby(\"ano\").median()[metric], linestyle=':', linewidth = 3)\n",
    "    plt.ylabel(metric)\n",
    "    plt.xlabel(\"Año\")\n",
    "    plt.title(plot_name, loc='left', fontsize=12, fontweight=0, color='orange')\n",
    "    plt.plot()\n",
    "    path = \"C:\\\\Users\\\\vsilecor.NET01\\\\Downloads\\\\grafos-20180118T165154Z-001\\\\grafos\\\\resultados\\\\graficos\\\\analisis_grafo\\\\\" + metric + \"_mediano_por_ano\" + \".png\"\n",
    "    plt.savefig(path)  \n",
    "    plt.close()"
   ]
  },
  {
   "cell_type": "code",
   "execution_count": 29,
   "metadata": {
    "collapsed": true
   },
   "outputs": [],
   "source": [
    "for i in results_df.columns:\n",
    "    if i not in [\"rango\", \"ano\"]:\n",
    "        title = i.title() + \" mediano por año\"\n",
    "        line_plot_median(i, title)"
   ]
  },
  {
   "cell_type": "code",
   "execution_count": 17,
   "metadata": {
    "collapsed": true
   },
   "outputs": [],
   "source": [
    "# Tomamos rango == 90"
   ]
  },
  {
   "cell_type": "code",
   "execution_count": 18,
   "metadata": {
    "collapsed": true
   },
   "outputs": [],
   "source": [
    "#def communities_from_graph_df(df, rango):\n",
    "#    import community\n",
    "#    df_i = df.loc[df[\"Value\"]>rango].copy()\n",
    "#    df_i[\"Value\"] = 1\n",
    "#    graph = nx.from_pandas_edgelist(df_i, source=\"Reporting country\", target=\"Partner country\", edge_attr= [\"Value\"])\n",
    "#    graph = nx.DiGraph(graph)\n",
    "#    part = community.best_partition(graph)\n",
    "#    return(part)"
   ]
  },
  {
   "cell_type": "code",
   "execution_count": 36,
   "metadata": {
    "collapsed": true
   },
   "outputs": [],
   "source": [
    "def gml_from_graph_df(graph_df, ano, rango):\n",
    "    graph_df_i = graph_df.loc[graph_df[\"Value\"]>rango].copy()\n",
    "    graph = nx.from_pandas_edgelist(graph_df_i, source=\"Reporting country\", target=\"Partner country\", edge_attr= [\"Value\"])\n",
    "    graph = nx.DiGraph(graph)\n",
    "    path = \"C:\\\\Users\\\\vsilecor.NET01\\\\Downloads\\\\grafos-20180118T165154Z-001\\\\grafos\\\\resultados\\\\grafos\\\\\" + str(ano) + \"_\" + str(rango) + \".gml\"\n",
    "    nx.write_gml(graph, path)"
   ]
  },
  {
   "cell_type": "code",
   "execution_count": 37,
   "metadata": {
    "collapsed": true
   },
   "outputs": [],
   "source": [
    "years = [2003,2004,2005,2006,2007,2008,2009,2010,2011,2012,2013]"
   ]
  },
  {
   "cell_type": "code",
   "execution_count": 38,
   "metadata": {
    "collapsed": true
   },
   "outputs": [],
   "source": [
    "for i in range(0,11,1):\n",
    "    #print(years[i])\n",
    "    gml_from_graph_df(df_list[i], years[i], 90)"
   ]
  },
  {
   "cell_type": "code",
   "execution_count": null,
   "metadata": {
    "collapsed": true
   },
   "outputs": [],
   "source": [
    "sns.set_style(\"ticks\")\n",
    "df_2010_red = df_2010.loc[df_2010[\"Value\"]>90].copy()\n",
    "graph = nx.from_pandas_dataframe(df_2010_red, source=\"Reporting country\", target=\"Partner country\",create_using=nx.DiGraph())\n",
    "plt.title(\"Distribución de grados de entrada - 2010\", loc='left', fontsize=12, fontweight=0, color='orange')\n",
    "plt.hist(pd.Series(np.array(list(dict(graph.in_degree).values()))))\n",
    "path = \"C:\\\\Users\\\\vsilecor.NET01\\\\Downloads\\\\grafos-20180118T165154Z-001\\\\grafos\\\\resultados\\\\graficos\\\\analisis_descriptivo\\\\distribucion_indegree.png\"\n",
    "plt.xlabel(\"Grados\")\n",
    "plt.savefig(path)\n",
    "plt.close()\n",
    "#plt.show()"
   ]
  },
  {
   "cell_type": "code",
   "execution_count": null,
   "metadata": {
    "collapsed": true
   },
   "outputs": [],
   "source": [
    "sns.set_style(\"ticks\")\n",
    "df_2010_red = df_2010.loc[df_2010[\"Value\"]>90].copy()\n",
    "graph = nx.from_pandas_dataframe(df_2010_red, source=\"Reporting country\", target=\"Partner country\",create_using=nx.DiGraph())\n",
    "plt.title(\"Distribución de grados de salida - 2010\", loc='left', fontsize=12, fontweight=0, color='orange')\n",
    "plt.hist(pd.Series(np.array(list(dict(graph.out_degree).values()))))\n",
    "path = \"C:\\\\Users\\\\vsilecor.NET01\\\\Downloads\\\\grafos-20180118T165154Z-001\\\\grafos\\\\resultados\\\\graficos\\\\analisis_descriptivo\\\\distribucion_outdegree.png\"\n",
    "plt.xlabel(\"Grados\")\n",
    "plt.savefig(path)\n",
    "plt.close()\n",
    "#plt.show()"
   ]
  }
 ],
 "metadata": {
  "kernelspec": {
   "display_name": "Python 3",
   "language": "python",
   "name": "python3"
  },
  "language_info": {
   "codemirror_mode": {
    "name": "ipython",
    "version": 3
   },
   "file_extension": ".py",
   "mimetype": "text/x-python",
   "name": "python",
   "nbconvert_exporter": "python",
   "pygments_lexer": "ipython3",
   "version": "3.6.2"
  }
 },
 "nbformat": 4,
 "nbformat_minor": 2
}
